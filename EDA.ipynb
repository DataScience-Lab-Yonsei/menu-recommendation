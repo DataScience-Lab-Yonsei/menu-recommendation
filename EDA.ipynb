{
  "nbformat": 4,
  "nbformat_minor": 0,
  "metadata": {
    "colab": {
      "provenance": [],
      "collapsed_sections": [],
      "toc_visible": true
    },
    "kernelspec": {
      "name": "python3",
      "display_name": "Python 3"
    },
    "language_info": {
      "name": "python"
    }
  },
  "cells": [
    {
      "cell_type": "code",
      "source": [
        "from google.colab import drive\n",
        "drive.mount('/content/drive')"
      ],
      "metadata": {
        "colab": {
          "base_uri": "https://localhost:8080/"
        },
        "id": "sf_ZwNpz5Gwt",
        "outputId": "067e634a-9ea6-48bc-c775-98943739b3ce"
      },
      "execution_count": null,
      "outputs": [
        {
          "output_type": "stream",
          "name": "stdout",
          "text": [
            "Drive already mounted at /content/drive; to attempt to forcibly remount, call drive.mount(\"/content/drive\", force_remount=True).\n"
          ]
        }
      ]
    },
    {
      "cell_type": "code",
      "execution_count": null,
      "metadata": {
        "id": "5pJTbVOH5CYg"
      },
      "outputs": [],
      "source": [
        "import time\n",
        "import seaborn as sns\n",
        "import matplotlib.pyplot as plt\n",
        "import pandas as pd\n",
        "import numpy as np\n",
        "import os\n",
        "\n",
        "import warnings\n",
        "warnings.filterwarnings(action='ignore')\n",
        "\n",
        "data_path = '/content/drive/MyDrive/data/'"
      ]
    },
    {
      "cell_type": "code",
      "source": [
        "!sudo apt-get install -y fonts-nanum\n",
        "!sudo fc-cache -fv\n",
        "!rm ~/.cache/matplotlib -rf"
      ],
      "metadata": {
        "id": "TROKkgSOC3ys",
        "colab": {
          "base_uri": "https://localhost:8080/"
        },
        "outputId": "d981dcc6-0545-422f-c121-ce16e9ed2409"
      },
      "execution_count": null,
      "outputs": [
        {
          "output_type": "stream",
          "name": "stdout",
          "text": [
            "Reading package lists... Done\n",
            "Building dependency tree       \n",
            "Reading state information... Done\n",
            "fonts-nanum is already the newest version (20170925-1).\n",
            "The following package was automatically installed and is no longer required:\n",
            "  libnvidia-common-460\n",
            "Use 'sudo apt autoremove' to remove it.\n",
            "0 upgraded, 0 newly installed, 0 to remove and 20 not upgraded.\n",
            "/usr/share/fonts: caching, new cache contents: 0 fonts, 1 dirs\n",
            "/usr/share/fonts/truetype: caching, new cache contents: 0 fonts, 3 dirs\n",
            "/usr/share/fonts/truetype/humor-sans: caching, new cache contents: 1 fonts, 0 dirs\n",
            "/usr/share/fonts/truetype/liberation: caching, new cache contents: 16 fonts, 0 dirs\n",
            "/usr/share/fonts/truetype/nanum: caching, new cache contents: 10 fonts, 0 dirs\n",
            "/usr/local/share/fonts: caching, new cache contents: 0 fonts, 0 dirs\n",
            "/root/.local/share/fonts: skipping, no such directory\n",
            "/root/.fonts: skipping, no such directory\n",
            "/var/cache/fontconfig: cleaning cache directory\n",
            "/root/.cache/fontconfig: not cleaning non-existent cache directory\n",
            "/root/.fontconfig: not cleaning non-existent cache directory\n",
            "fc-cache: succeeded\n"
          ]
        }
      ]
    },
    {
      "cell_type": "code",
      "source": [
        "plt.rc('font', family='NanumBarunGothic')"
      ],
      "metadata": {
        "id": "Khqo94dUC9o6"
      },
      "execution_count": null,
      "outputs": []
    },
    {
      "cell_type": "code",
      "source": [
        "train_df = pd.read_csv(os.path.join(data_path, 'total_menu_final_category_property.csv')) # 전체 학습 데이터\n",
        "all_df = pd.read_csv(os.path.join(data_path, 'total_menu_final_category_property.csv')) # 전체 데이터"
      ],
      "metadata": {
        "id": "JjaumkX5527-"
      },
      "execution_count": null,
      "outputs": []
    },
    {
      "cell_type": "code",
      "source": [
        "train_df.head()"
      ],
      "metadata": {
        "colab": {
          "base_uri": "https://localhost:8080/",
          "height": 206
        },
        "id": "D20WTEcw5-B9",
        "outputId": "69927c45-d40b-49ee-ff8c-853d8ae96c6d"
      },
      "execution_count": null,
      "outputs": [
        {
          "output_type": "execute_result",
          "data": {
            "text/plain": [
              "   Unnamed: 0  Unnamed: 0.1  user_id      menu  menu_id  timestamp category  \\\n",
              "0           0             0        0    함박스테이크      128          2       양식   \n",
              "1           1             1        0   컵라면&찐계란      512          3       한식   \n",
              "2           2             2        0  시리얼과일샐러드     1200          5       한식   \n",
              "3           3             3        0   돼지고기장조림      866          8       한식   \n",
              "4           4             4        0       돈까스      695          9       일식   \n",
              "\n",
              "  property  \n",
              "0      고기류  \n",
              "1       면류  \n",
              "2     샐러드류  \n",
              "3      조림류  \n",
              "4      튀김류  "
            ],
            "text/html": [
              "\n",
              "  <div id=\"df-fcc4c1b4-4903-432b-9439-4fb772b3397e\">\n",
              "    <div class=\"colab-df-container\">\n",
              "      <div>\n",
              "<style scoped>\n",
              "    .dataframe tbody tr th:only-of-type {\n",
              "        vertical-align: middle;\n",
              "    }\n",
              "\n",
              "    .dataframe tbody tr th {\n",
              "        vertical-align: top;\n",
              "    }\n",
              "\n",
              "    .dataframe thead th {\n",
              "        text-align: right;\n",
              "    }\n",
              "</style>\n",
              "<table border=\"1\" class=\"dataframe\">\n",
              "  <thead>\n",
              "    <tr style=\"text-align: right;\">\n",
              "      <th></th>\n",
              "      <th>Unnamed: 0</th>\n",
              "      <th>Unnamed: 0.1</th>\n",
              "      <th>user_id</th>\n",
              "      <th>menu</th>\n",
              "      <th>menu_id</th>\n",
              "      <th>timestamp</th>\n",
              "      <th>category</th>\n",
              "      <th>property</th>\n",
              "    </tr>\n",
              "  </thead>\n",
              "  <tbody>\n",
              "    <tr>\n",
              "      <th>0</th>\n",
              "      <td>0</td>\n",
              "      <td>0</td>\n",
              "      <td>0</td>\n",
              "      <td>함박스테이크</td>\n",
              "      <td>128</td>\n",
              "      <td>2</td>\n",
              "      <td>양식</td>\n",
              "      <td>고기류</td>\n",
              "    </tr>\n",
              "    <tr>\n",
              "      <th>1</th>\n",
              "      <td>1</td>\n",
              "      <td>1</td>\n",
              "      <td>0</td>\n",
              "      <td>컵라면&amp;찐계란</td>\n",
              "      <td>512</td>\n",
              "      <td>3</td>\n",
              "      <td>한식</td>\n",
              "      <td>면류</td>\n",
              "    </tr>\n",
              "    <tr>\n",
              "      <th>2</th>\n",
              "      <td>2</td>\n",
              "      <td>2</td>\n",
              "      <td>0</td>\n",
              "      <td>시리얼과일샐러드</td>\n",
              "      <td>1200</td>\n",
              "      <td>5</td>\n",
              "      <td>한식</td>\n",
              "      <td>샐러드류</td>\n",
              "    </tr>\n",
              "    <tr>\n",
              "      <th>3</th>\n",
              "      <td>3</td>\n",
              "      <td>3</td>\n",
              "      <td>0</td>\n",
              "      <td>돼지고기장조림</td>\n",
              "      <td>866</td>\n",
              "      <td>8</td>\n",
              "      <td>한식</td>\n",
              "      <td>조림류</td>\n",
              "    </tr>\n",
              "    <tr>\n",
              "      <th>4</th>\n",
              "      <td>4</td>\n",
              "      <td>4</td>\n",
              "      <td>0</td>\n",
              "      <td>돈까스</td>\n",
              "      <td>695</td>\n",
              "      <td>9</td>\n",
              "      <td>일식</td>\n",
              "      <td>튀김류</td>\n",
              "    </tr>\n",
              "  </tbody>\n",
              "</table>\n",
              "</div>\n",
              "      <button class=\"colab-df-convert\" onclick=\"convertToInteractive('df-fcc4c1b4-4903-432b-9439-4fb772b3397e')\"\n",
              "              title=\"Convert this dataframe to an interactive table.\"\n",
              "              style=\"display:none;\">\n",
              "        \n",
              "  <svg xmlns=\"http://www.w3.org/2000/svg\" height=\"24px\"viewBox=\"0 0 24 24\"\n",
              "       width=\"24px\">\n",
              "    <path d=\"M0 0h24v24H0V0z\" fill=\"none\"/>\n",
              "    <path d=\"M18.56 5.44l.94 2.06.94-2.06 2.06-.94-2.06-.94-.94-2.06-.94 2.06-2.06.94zm-11 1L8.5 8.5l.94-2.06 2.06-.94-2.06-.94L8.5 2.5l-.94 2.06-2.06.94zm10 10l.94 2.06.94-2.06 2.06-.94-2.06-.94-.94-2.06-.94 2.06-2.06.94z\"/><path d=\"M17.41 7.96l-1.37-1.37c-.4-.4-.92-.59-1.43-.59-.52 0-1.04.2-1.43.59L10.3 9.45l-7.72 7.72c-.78.78-.78 2.05 0 2.83L4 21.41c.39.39.9.59 1.41.59.51 0 1.02-.2 1.41-.59l7.78-7.78 2.81-2.81c.8-.78.8-2.07 0-2.86zM5.41 20L4 18.59l7.72-7.72 1.47 1.35L5.41 20z\"/>\n",
              "  </svg>\n",
              "      </button>\n",
              "      \n",
              "  <style>\n",
              "    .colab-df-container {\n",
              "      display:flex;\n",
              "      flex-wrap:wrap;\n",
              "      gap: 12px;\n",
              "    }\n",
              "\n",
              "    .colab-df-convert {\n",
              "      background-color: #E8F0FE;\n",
              "      border: none;\n",
              "      border-radius: 50%;\n",
              "      cursor: pointer;\n",
              "      display: none;\n",
              "      fill: #1967D2;\n",
              "      height: 32px;\n",
              "      padding: 0 0 0 0;\n",
              "      width: 32px;\n",
              "    }\n",
              "\n",
              "    .colab-df-convert:hover {\n",
              "      background-color: #E2EBFA;\n",
              "      box-shadow: 0px 1px 2px rgba(60, 64, 67, 0.3), 0px 1px 3px 1px rgba(60, 64, 67, 0.15);\n",
              "      fill: #174EA6;\n",
              "    }\n",
              "\n",
              "    [theme=dark] .colab-df-convert {\n",
              "      background-color: #3B4455;\n",
              "      fill: #D2E3FC;\n",
              "    }\n",
              "\n",
              "    [theme=dark] .colab-df-convert:hover {\n",
              "      background-color: #434B5C;\n",
              "      box-shadow: 0px 1px 3px 1px rgba(0, 0, 0, 0.15);\n",
              "      filter: drop-shadow(0px 1px 2px rgba(0, 0, 0, 0.3));\n",
              "      fill: #FFFFFF;\n",
              "    }\n",
              "  </style>\n",
              "\n",
              "      <script>\n",
              "        const buttonEl =\n",
              "          document.querySelector('#df-fcc4c1b4-4903-432b-9439-4fb772b3397e button.colab-df-convert');\n",
              "        buttonEl.style.display =\n",
              "          google.colab.kernel.accessAllowed ? 'block' : 'none';\n",
              "\n",
              "        async function convertToInteractive(key) {\n",
              "          const element = document.querySelector('#df-fcc4c1b4-4903-432b-9439-4fb772b3397e');\n",
              "          const dataTable =\n",
              "            await google.colab.kernel.invokeFunction('convertToInteractive',\n",
              "                                                     [key], {});\n",
              "          if (!dataTable) return;\n",
              "\n",
              "          const docLinkHtml = 'Like what you see? Visit the ' +\n",
              "            '<a target=\"_blank\" href=https://colab.research.google.com/notebooks/data_table.ipynb>data table notebook</a>'\n",
              "            + ' to learn more about interactive tables.';\n",
              "          element.innerHTML = '';\n",
              "          dataTable['output_type'] = 'display_data';\n",
              "          await google.colab.output.renderOutput(dataTable, element);\n",
              "          const docLink = document.createElement('div');\n",
              "          docLink.innerHTML = docLinkHtml;\n",
              "          element.appendChild(docLink);\n",
              "        }\n",
              "      </script>\n",
              "    </div>\n",
              "  </div>\n",
              "  "
            ]
          },
          "metadata": {},
          "execution_count": 42
        }
      ]
    },
    {
      "cell_type": "markdown",
      "source": [
        "# 유저 & 메뉴 확인"
      ],
      "metadata": {
        "id": "dn4J7UuvE2L3"
      }
    },
    {
      "cell_type": "code",
      "source": [
        "# user sequence 길이\n",
        "def get_show(title, val, col, x):\n",
        "    plt.axvline(x = val, color=col)\n",
        "    plt.text(val, x, f'{title}_{val}', color = col, fontsize=12)\n",
        "\n",
        "sns.histplot(train_df[\"user_id\"].value_counts())\n",
        "\n",
        "mean_val = train_df[\"user_id\"].value_counts().mean()\n",
        "median_val = train_df[\"user_id\"].value_counts().median()\n",
        "min_val = train_df[\"user_id\"].value_counts().min()\n",
        "max_val = train_df[\"user_id\"].value_counts().max()\n",
        "\n",
        "get_show(title = 'mean', val = int(mean_val), col = 'r', x = 1400)\n",
        "get_show(title = 'median', val = int(median_val), col = 'b', x = 3200)\n",
        "get_show(title = 'min', val = int(min_val), col = 'g', x = 100)\n",
        "get_show(title = 'max', val = int(max_val), col = 'purple', x = 3000)\n",
        "\n",
        "plt.title('user sequence length')"
      ],
      "metadata": {
        "id": "xOeVj6W35zva"
      },
      "execution_count": null,
      "outputs": []
    },
    {
      "cell_type": "code",
      "source": [
        "# User, Menu 갯수 확인\n",
        "num_train_users = train_df['user_id'].nunique()\n",
        "num_train_items = train_df['menu'].nunique()\n",
        "\n",
        "print (\"Number of train Menu:\", len(train_df['menu']))\n",
        "print (\"Number of unique train Menu: \", num_train_items)\n",
        "print (\"Number of unique train users: \", num_train_users)\n",
        "print(\"Data sparsity ratio: \", 1 - len(train_df) / (num_train_users * num_train_items))"
      ],
      "metadata": {
        "colab": {
          "base_uri": "https://localhost:8080/"
        },
        "id": "mIeOJTHp6cYD",
        "outputId": "d353cf66-fb2c-4e3f-cfb6-2052dbbd1dba"
      },
      "execution_count": null,
      "outputs": [
        {
          "output_type": "stream",
          "name": "stdout",
          "text": [
            "Number of train Menu: 753\n",
            "Number of unique train Menu:  209\n",
            "Number of unique train users:  66\n",
            "Data sparsity ratio:  0.9454110482818616\n"
          ]
        }
      ]
    },
    {
      "cell_type": "code",
      "source": [
        "# 중복되는 Menu 데이터 확인\n",
        "train_df['menu'].value_counts()"
      ],
      "metadata": {
        "colab": {
          "base_uri": "https://localhost:8080/"
        },
        "id": "X1OFQ6GE8l91",
        "outputId": "c84d2b60-4923-4400-8752-73f7c81f4424"
      },
      "execution_count": null,
      "outputs": [
        {
          "output_type": "execute_result",
          "data": {
            "text/plain": [
              "돼지갈비찜     18\n",
              "부대찌개      17\n",
              "불고기       16\n",
              "카레라이스     14\n",
              "미니햄버거     12\n",
              "          ..\n",
              "참치주먹밥      1\n",
              "유린기        1\n",
              "차돌된장찌개     1\n",
              "햄감자채볶음     1\n",
              "캠핑구이세트     1\n",
              "Name: menu, Length: 209, dtype: int64"
            ]
          },
          "metadata": {},
          "execution_count": 45
        }
      ]
    },
    {
      "cell_type": "code",
      "source": [
        "# 중복 메뉴 상위 15개\n",
        "from collections import Counter\n",
        "n = 15\n",
        "c= Counter(train_df['menu'])\n",
        "print(f\"자주 나오는 메뉴 상위 {n}개 \\n\")\n",
        "print(\"   메뉴    |   중복 횟수\")\n",
        "for x,y in c.most_common(n):\n",
        "    print(x, \"\\t\", y)"
      ],
      "metadata": {
        "colab": {
          "base_uri": "https://localhost:8080/"
        },
        "id": "WlM2uZTJ_AsS",
        "outputId": "9faaacf1-8265-4778-fefb-960536d9fe2e"
      },
      "execution_count": null,
      "outputs": [
        {
          "output_type": "stream",
          "name": "stdout",
          "text": [
            "자주 나오는 메뉴 상위 15개 \n",
            "\n",
            "   메뉴    |   중복 횟수\n",
            "돼지갈비찜 \t 18\n",
            "부대찌개 \t 17\n",
            "불고기 \t 16\n",
            "카레라이스 \t 14\n",
            "미니햄버거 \t 12\n",
            "닭가슴살장조림 \t 12\n",
            "컵라면&찐계란 \t 11\n",
            "시리얼과일샐러드 \t 11\n",
            "김밥 \t 11\n",
            "감자탕 \t 11\n",
            "수제비 \t 11\n",
            "짬뽕 \t 11\n",
            "된장국 \t 11\n",
            "돈까스 \t 10\n",
            "알리오올리오파스타 \t 10\n"
          ]
        }
      ]
    },
    {
      "cell_type": "code",
      "source": [
        "value = train_df['menu'].value_counts()\n",
        "value = value.to_frame()"
      ],
      "metadata": {
        "id": "L9DqiIFk_1ct"
      },
      "execution_count": null,
      "outputs": []
    },
    {
      "cell_type": "code",
      "source": [
        "xs=value.index.to_list()\t\t\n",
        "ys=value['menu'].to_list()\t\t\t\n",
        "\n",
        "plt.figure(figsize=(10, 6))\t\t\t\n",
        "plt.xlabel('Menu')\t\t\t\n",
        "plt.ylabel('num')\t\t\t\t\n",
        "\n",
        "plt.bar(xs[0:15], ys[0:15], width=0.6, color = 'gray')\n",
        "plt.xticks(rotation=45, fontsize = 12)"
      ],
      "metadata": {
        "colab": {
          "base_uri": "https://localhost:8080/",
          "height": 462
        },
        "id": "dF-D0kNO-4fw",
        "outputId": "b5e6d924-2fda-4006-86e8-53db70b38277"
      },
      "execution_count": null,
      "outputs": [
        {
          "output_type": "execute_result",
          "data": {
            "text/plain": [
              "([0, 1, 2, 3, 4, 5, 6, 7, 8, 9, 10, 11, 12, 13, 14],\n",
              " <a list of 15 Text major ticklabel objects>)"
            ]
          },
          "metadata": {},
          "execution_count": 25
        },
        {
          "output_type": "display_data",
          "data": {
            "text/plain": [
              "<Figure size 720x432 with 1 Axes>"
            ],
            "image/png": "[encoded data removed]"
          },
          "metadata": {
            "needs_background": "light"
          }
        }
      ]
    },
    {
      "cell_type": "markdown",
      "source": [
        "- 전체 데이터 수는 134154개\n",
        "- 전체 유저 수는 4518명\n",
        "- 유저마다 session 길이 28~30\n",
        "- 전체 메뉴 수는 2340개\n",
        "- 메뉴마다 최소 9개에서 최대 4014번 중복"
      ],
      "metadata": {
        "id": "4EVFWuGF-Zzy"
      }
    },
    {
      "cell_type": "markdown",
      "source": [
        "# category 및 property 확인"
      ],
      "metadata": {
        "id": "H3fhAE_hE4yP"
      }
    },
    {
      "cell_type": "code",
      "source": [
        "num_train_ctg = train_df['category'].nunique()\n",
        "num_train_pp = train_df['property'].nunique()\n",
        "\n",
        "print (\"Number of unique category: \", num_train_ctg)\n",
        "print (\"Number of unique property: \", num_train_pp)"
      ],
      "metadata": {
        "colab": {
          "base_uri": "https://localhost:8080/"
        },
        "id": "X-vSHoo7E51E",
        "outputId": "a547f829-6712-476d-a84f-39ec25c9767e"
      },
      "execution_count": null,
      "outputs": [
        {
          "output_type": "stream",
          "name": "stdout",
          "text": [
            "Number of unique category:  4\n",
            "Number of unique property:  20\n"
          ]
        }
      ]
    },
    {
      "cell_type": "code",
      "source": [
        "# 중복되는 category 데이터 확인\n",
        "train_df['category'].value_counts()"
      ],
      "metadata": {
        "colab": {
          "base_uri": "https://localhost:8080/"
        },
        "id": "QwywY_YvFfQH",
        "outputId": "53cd8317-4d15-4f32-8ee3-1a694bc32187"
      },
      "execution_count": null,
      "outputs": [
        {
          "output_type": "execute_result",
          "data": {
            "text/plain": [
              "한식    109788\n",
              "양식     16776\n",
              "중식      4614\n",
              "일식      2976\n",
              "Name: category, dtype: int64"
            ]
          },
          "metadata": {},
          "execution_count": 16
        }
      ]
    },
    {
      "cell_type": "code",
      "source": [
        "# 중복되는 property 데이터 확인\n",
        "train_df['property'].value_counts()"
      ],
      "metadata": {
        "colab": {
          "base_uri": "https://localhost:8080/"
        },
        "id": "V9i4DbgoFivQ",
        "outputId": "4fa824b4-d808-470e-86df-1829579a313e"
      },
      "execution_count": null,
      "outputs": [
        {
          "output_type": "execute_result",
          "data": {
            "text/plain": [
              "국류        31038\n",
              "볶음류       10680\n",
              "고기류        9312\n",
              "탕류         8982\n",
              "샐러드류       8727\n",
              "무침류        8577\n",
              "튀김류        7725\n",
              "빵류         7278\n",
              "찌개류        7137\n",
              "면류         6333\n",
              "전류         6021\n",
              "조림류        5817\n",
              "구이류        5094\n",
              "디저트류       4068\n",
              "찜류         3582\n",
              "패스트푸드류     3240\n",
              "밥류          345\n",
              "패스트부드류       81\n",
              "회류           81\n",
              "부침류          36\n",
              "Name: property, dtype: int64"
            ]
          },
          "metadata": {},
          "execution_count": 17
        }
      ]
    },
    {
      "cell_type": "code",
      "source": [
        "109788/len(train_df)"
      ],
      "metadata": {
        "colab": {
          "base_uri": "https://localhost:8080/"
        },
        "id": "-gFJg3D3Iz5H",
        "outputId": "922826fe-4dc4-4161-b1e8-974d87244ef2"
      },
      "execution_count": null,
      "outputs": [
        {
          "output_type": "execute_result",
          "data": {
            "text/plain": [
              "0.8183729147099602"
            ]
          },
          "metadata": {},
          "execution_count": 33
        }
      ]
    },
    {
      "cell_type": "code",
      "source": [
        "# 카테고리 시각화\n",
        "value = train_df['category'].value_counts()\n",
        "value = value.to_frame()\n",
        "\n",
        "xs=value.index.to_list()\t\t\n",
        "ys=value['category'].to_list()\t\t\t\n",
        "\n",
        "plt.figure(figsize=(10, 6))\t\t\t\n",
        "plt.xlabel('Category')\t\t\t\n",
        "plt.ylabel('num')\t\t\t\t\n",
        "\n",
        "plt.bar(xs[0:15], ys[0:15], width=0.6, color = 'gray')\n",
        "plt.xticks(fontsize = 12)"
      ],
      "metadata": {
        "colab": {
          "base_uri": "https://localhost:8080/",
          "height": 409
        },
        "id": "3Uo-TaiFFrM0",
        "outputId": "14c06772-5c32-4c29-bb14-60b4c1b2869d"
      },
      "execution_count": null,
      "outputs": [
        {
          "output_type": "execute_result",
          "data": {
            "text/plain": [
              "([0, 1, 2, 3], <a list of 4 Text major ticklabel objects>)"
            ]
          },
          "metadata": {},
          "execution_count": 26
        },
        {
          "output_type": "display_data",
          "data": {
            "text/plain": [
              "<Figure size 720x432 with 1 Axes>"
            ],
            "image/png": "[encoded data removed]"
          },
          "metadata": {
            "needs_background": "light"
          }
        }
      ]
    },
    {
      "cell_type": "code",
      "source": [
        "# 속성 시각화\n",
        "value = train_df['property'].value_counts()\n",
        "value = value.to_frame()\n",
        "\n",
        "xs=value.index.to_list()\t\t\n",
        "ys=value['property'].to_list()\t\t\t\n",
        "\n",
        "plt.figure(figsize=(10, 6))\t\t\t\n",
        "plt.xlabel('Property')\t\t\t\n",
        "plt.ylabel('num')\t\t\t\t\n",
        "\n",
        "plt.bar(xs[0:15], ys[0:15], width=0.6, color = 'gray')\n",
        "plt.xticks(rotation = 45, fontsize = 12)"
      ],
      "metadata": {
        "colab": {
          "base_uri": "https://localhost:8080/",
          "height": 454
        },
        "id": "eYovQkgoGJMY",
        "outputId": "dca351d0-3e70-4aa0-97eb-c1c7428d4cc8"
      },
      "execution_count": null,
      "outputs": [
        {
          "output_type": "execute_result",
          "data": {
            "text/plain": [
              "([0, 1, 2, 3, 4, 5, 6, 7, 8, 9, 10, 11, 12, 13, 14],\n",
              " <a list of 15 Text major ticklabel objects>)"
            ]
          },
          "metadata": {},
          "execution_count": 31
        },
        {
          "output_type": "display_data",
          "data": {
            "text/plain": [
              "<Figure size 720x432 with 1 Axes>"
            ],
            "image/png": "[encoded data removed]"
          },
          "metadata": {
            "needs_background": "light"
          }
        }
      ]
    }
  ]
}