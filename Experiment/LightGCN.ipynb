{
  "nbformat": 4,
  "nbformat_minor": 0,
  "metadata": {
    "colab": {
      "provenance": [],
      "collapsed_sections": []
    },
    "kernelspec": {
      "name": "python3",
      "display_name": "Python 3"
    },
    "language_info": {
      "name": "python"
    }
  },
  "cells": [
    {
      "cell_type": "code",
      "execution_count": null,
      "metadata": {
        "colab": {
          "base_uri": "https://localhost:8080/"
        },
        "id": "Vh9EcSRgJunt",
        "outputId": "a1755c76-9c86-4ed5-ebf5-d12f4733d091"
      },
      "outputs": [
        {
          "output_type": "stream",
          "name": "stdout",
          "text": [
            "Looking in indexes: https://pypi.org/simple, https://us-python.pkg.dev/colab-wheels/public/simple/\n",
            "Collecting python-box\n",
            "  Downloading python_box-6.0.2-cp37-cp37m-manylinux_2_17_x86_64.manylinux2014_x86_64.whl (3.0 MB)\n",
            "\u001b[K     |████████████████████████████████| 3.0 MB 5.1 MB/s \n",
            "\u001b[?25hInstalling collected packages: python-box\n",
            "Successfully installed python-box-6.0.2\n"
          ]
        }
      ],
      "source": [
        "!pip install python-box"
      ]
    },
    {
      "cell_type": "code",
      "source": [
        "import math\n",
        "import numpy as np\n",
        "import pandas as pd\n",
        "from tqdm import tqdm\n",
        "from collections import defaultdict\n",
        "import os\n",
        "\n",
        "import random\n",
        "from datetime import datetime\n",
        "from time import time\n",
        "import scipy.sparse as sp\n",
        "\n",
        "import torch\n",
        "import torch.nn as nn\n",
        "import torch.nn.functional as F\n",
        "from torch.utils.data import Dataset, DataLoader\n",
        "\n",
        "from box import Box\n",
        "\n",
        "import warnings\n",
        "\n",
        "warnings.filterwarnings(action='ignore')"
      ],
      "metadata": {
        "id": "S9IQGNqRJ5YX"
      },
      "execution_count": null,
      "outputs": []
    },
    {
      "cell_type": "code",
      "source": [
        "from google.colab import drive\n",
        "drive.mount('/content/drive')"
      ],
      "metadata": {
        "colab": {
          "base_uri": "https://localhost:8080/"
        },
        "id": "lFnA-nLxJ7xY",
        "outputId": "53b0d47f-01aa-4f86-94e1-b4e10c9cf7a5"
      },
      "execution_count": null,
      "outputs": [
        {
          "output_type": "stream",
          "name": "stdout",
          "text": [
            "Mounted at /content/drive\n"
          ]
        }
      ]
    },
    {
      "cell_type": "code",
      "source": [
        "cd /content/drive/MyDrive/data"
      ],
      "metadata": {
        "colab": {
          "base_uri": "https://localhost:8080/"
        },
        "id": "0FWrrN1TJ7zo",
        "outputId": "22c16019-92fe-4ecf-a6c6-a97773ea8eb0"
      },
      "execution_count": null,
      "outputs": [
        {
          "output_type": "stream",
          "name": "stdout",
          "text": [
            "/content/drive/MyDrive/data\n"
          ]
        }
      ]
    },
    {
      "cell_type": "code",
      "source": [
        "data = pd.read_csv('/content/drive/MyDrive/data/total_menu_final_category_property.csv', index_col = 0)\n",
        "data.head()"
      ],
      "metadata": {
        "id": "pc4Klf2tJ71p",
        "colab": {
          "base_uri": "https://localhost:8080/",
          "height": 206
        },
        "outputId": "41b38b20-2ef1-4b40-f94a-c00e5ab8db60"
      },
      "execution_count": null,
      "outputs": [
        {
          "output_type": "execute_result",
          "data": {
            "text/plain": [
              "   Unnamed: 0.1  user_id   menu  menu_id  timestamp category property\n",
              "0             0        0     찐빵        0          1       양식       빵류\n",
              "1             1        0    맑은국       16          1       한식       국류\n",
              "2             2        0  오징어찌개        1          2       한식      찌개류\n",
              "3             3        0    육개장        2          3       한식       면류\n",
              "4             4        0  단호박샌드        3          4       양식       빵류"
            ],
            "text/html": [
              "\n",
              "  <div id=\"df-c00f3358-be74-4806-a7a6-890da17a4d19\">\n",
              "    <div class=\"colab-df-container\">\n",
              "      <div>\n",
              "<style scoped>\n",
              "    .dataframe tbody tr th:only-of-type {\n",
              "        vertical-align: middle;\n",
              "    }\n",
              "\n",
              "    .dataframe tbody tr th {\n",
              "        vertical-align: top;\n",
              "    }\n",
              "\n",
              "    .dataframe thead th {\n",
              "        text-align: right;\n",
              "    }\n",
              "</style>\n",
              "<table border=\"1\" class=\"dataframe\">\n",
              "  <thead>\n",
              "    <tr style=\"text-align: right;\">\n",
              "      <th></th>\n",
              "      <th>Unnamed: 0.1</th>\n",
              "      <th>user_id</th>\n",
              "      <th>menu</th>\n",
              "      <th>menu_id</th>\n",
              "      <th>timestamp</th>\n",
              "      <th>category</th>\n",
              "      <th>property</th>\n",
              "    </tr>\n",
              "  </thead>\n",
              "  <tbody>\n",
              "    <tr>\n",
              "      <th>0</th>\n",
              "      <td>0</td>\n",
              "      <td>0</td>\n",
              "      <td>찐빵</td>\n",
              "      <td>0</td>\n",
              "      <td>1</td>\n",
              "      <td>양식</td>\n",
              "      <td>빵류</td>\n",
              "    </tr>\n",
              "    <tr>\n",
              "      <th>1</th>\n",
              "      <td>1</td>\n",
              "      <td>0</td>\n",
              "      <td>맑은국</td>\n",
              "      <td>16</td>\n",
              "      <td>1</td>\n",
              "      <td>한식</td>\n",
              "      <td>국류</td>\n",
              "    </tr>\n",
              "    <tr>\n",
              "      <th>2</th>\n",
              "      <td>2</td>\n",
              "      <td>0</td>\n",
              "      <td>오징어찌개</td>\n",
              "      <td>1</td>\n",
              "      <td>2</td>\n",
              "      <td>한식</td>\n",
              "      <td>찌개류</td>\n",
              "    </tr>\n",
              "    <tr>\n",
              "      <th>3</th>\n",
              "      <td>3</td>\n",
              "      <td>0</td>\n",
              "      <td>육개장</td>\n",
              "      <td>2</td>\n",
              "      <td>3</td>\n",
              "      <td>한식</td>\n",
              "      <td>면류</td>\n",
              "    </tr>\n",
              "    <tr>\n",
              "      <th>4</th>\n",
              "      <td>4</td>\n",
              "      <td>0</td>\n",
              "      <td>단호박샌드</td>\n",
              "      <td>3</td>\n",
              "      <td>4</td>\n",
              "      <td>양식</td>\n",
              "      <td>빵류</td>\n",
              "    </tr>\n",
              "  </tbody>\n",
              "</table>\n",
              "</div>\n",
              "      <button class=\"colab-df-convert\" onclick=\"convertToInteractive('df-c00f3358-be74-4806-a7a6-890da17a4d19')\"\n",
              "              title=\"Convert this dataframe to an interactive table.\"\n",
              "              style=\"display:none;\">\n",
              "        \n",
              "  <svg xmlns=\"http://www.w3.org/2000/svg\" height=\"24px\"viewBox=\"0 0 24 24\"\n",
              "       width=\"24px\">\n",
              "    <path d=\"M0 0h24v24H0V0z\" fill=\"none\"/>\n",
              "    <path d=\"M18.56 5.44l.94 2.06.94-2.06 2.06-.94-2.06-.94-.94-2.06-.94 2.06-2.06.94zm-11 1L8.5 8.5l.94-2.06 2.06-.94-2.06-.94L8.5 2.5l-.94 2.06-2.06.94zm10 10l.94 2.06.94-2.06 2.06-.94-2.06-.94-.94-2.06-.94 2.06-2.06.94z\"/><path d=\"M17.41 7.96l-1.37-1.37c-.4-.4-.92-.59-1.43-.59-.52 0-1.04.2-1.43.59L10.3 9.45l-7.72 7.72c-.78.78-.78 2.05 0 2.83L4 21.41c.39.39.9.59 1.41.59.51 0 1.02-.2 1.41-.59l7.78-7.78 2.81-2.81c.8-.78.8-2.07 0-2.86zM5.41 20L4 18.59l7.72-7.72 1.47 1.35L5.41 20z\"/>\n",
              "  </svg>\n",
              "      </button>\n",
              "      \n",
              "  <style>\n",
              "    .colab-df-container {\n",
              "      display:flex;\n",
              "      flex-wrap:wrap;\n",
              "      gap: 12px;\n",
              "    }\n",
              "\n",
              "    .colab-df-convert {\n",
              "      background-color: #E8F0FE;\n",
              "      border: none;\n",
              "      border-radius: 50%;\n",
              "      cursor: pointer;\n",
              "      display: none;\n",
              "      fill: #1967D2;\n",
              "      height: 32px;\n",
              "      padding: 0 0 0 0;\n",
              "      width: 32px;\n",
              "    }\n",
              "\n",
              "    .colab-df-convert:hover {\n",
              "      background-color: #E2EBFA;\n",
              "      box-shadow: 0px 1px 2px rgba(60, 64, 67, 0.3), 0px 1px 3px 1px rgba(60, 64, 67, 0.15);\n",
              "      fill: #174EA6;\n",
              "    }\n",
              "\n",
              "    [theme=dark] .colab-df-convert {\n",
              "      background-color: #3B4455;\n",
              "      fill: #D2E3FC;\n",
              "    }\n",
              "\n",
              "    [theme=dark] .colab-df-convert:hover {\n",
              "      background-color: #434B5C;\n",
              "      box-shadow: 0px 1px 3px 1px rgba(0, 0, 0, 0.15);\n",
              "      filter: drop-shadow(0px 1px 2px rgba(0, 0, 0, 0.3));\n",
              "      fill: #FFFFFF;\n",
              "    }\n",
              "  </style>\n",
              "\n",
              "      <script>\n",
              "        const buttonEl =\n",
              "          document.querySelector('#df-c00f3358-be74-4806-a7a6-890da17a4d19 button.colab-df-convert');\n",
              "        buttonEl.style.display =\n",
              "          google.colab.kernel.accessAllowed ? 'block' : 'none';\n",
              "\n",
              "        async function convertToInteractive(key) {\n",
              "          const element = document.querySelector('#df-c00f3358-be74-4806-a7a6-890da17a4d19');\n",
              "          const dataTable =\n",
              "            await google.colab.kernel.invokeFunction('convertToInteractive',\n",
              "                                                     [key], {});\n",
              "          if (!dataTable) return;\n",
              "\n",
              "          const docLinkHtml = 'Like what you see? Visit the ' +\n",
              "            '<a target=\"_blank\" href=https://colab.research.google.com/notebooks/data_table.ipynb>data table notebook</a>'\n",
              "            + ' to learn more about interactive tables.';\n",
              "          element.innerHTML = '';\n",
              "          dataTable['output_type'] = 'display_data';\n",
              "          await google.colab.output.renderOutput(dataTable, element);\n",
              "          const docLink = document.createElement('div');\n",
              "          docLink.innerHTML = docLinkHtml;\n",
              "          element.appendChild(docLink);\n",
              "        }\n",
              "      </script>\n",
              "    </div>\n",
              "  </div>\n",
              "  "
            ]
          },
          "metadata": {},
          "execution_count": 5
        }
      ]
    },
    {
      "cell_type": "code",
      "source": [
        "data # 한식 110128 일식 2982 중식 4628 16822"
      ],
      "metadata": {
        "colab": {
          "base_uri": "https://localhost:8080/",
          "height": 424
        },
        "id": "GfP-NtNvlJLB",
        "outputId": "67487c83-b989-4bee-d31d-77ebfa233839"
      },
      "execution_count": null,
      "outputs": [
        {
          "output_type": "execute_result",
          "data": {
            "text/plain": [
              "     Unnamed: 0.1  user_id     menu  menu_id  timestamp category property\n",
              "0               0        0       찐빵        0          1       양식       빵류\n",
              "1               1        0      맑은국       16          1       한식       국류\n",
              "2               2        0    오징어찌개        1          2       한식      찌개류\n",
              "3               3        0      육개장        2          3       한식       면류\n",
              "4               4        0    단호박샌드        3          4       양식       빵류\n",
              "..            ...      ...      ...      ...        ...      ...      ...\n",
              "401           402     4531  토마토스파게티      120         26       양식       면류\n",
              "402           403     4531    카레라이스     2527         27       양식       밥류\n",
              "403           404     4531     두부조림     1068         28       한식      조림류\n",
              "404           376     4531   캠핑구이세트     2509         29       양식      구이류\n",
              "405           405     4531    김밥볶음밥     2528         29       한식       밥류\n",
              "\n",
              "[134560 rows x 7 columns]"
            ],
            "text/html": [
              "\n",
              "  <div id=\"df-5b239497-21bb-4765-befc-81ea045ba271\">\n",
              "    <div class=\"colab-df-container\">\n",
              "      <div>\n",
              "<style scoped>\n",
              "    .dataframe tbody tr th:only-of-type {\n",
              "        vertical-align: middle;\n",
              "    }\n",
              "\n",
              "    .dataframe tbody tr th {\n",
              "        vertical-align: top;\n",
              "    }\n",
              "\n",
              "    .dataframe thead th {\n",
              "        text-align: right;\n",
              "    }\n",
              "</style>\n",
              "<table border=\"1\" class=\"dataframe\">\n",
              "  <thead>\n",
              "    <tr style=\"text-align: right;\">\n",
              "      <th></th>\n",
              "      <th>Unnamed: 0.1</th>\n",
              "      <th>user_id</th>\n",
              "      <th>menu</th>\n",
              "      <th>menu_id</th>\n",
              "      <th>timestamp</th>\n",
              "      <th>category</th>\n",
              "      <th>property</th>\n",
              "    </tr>\n",
              "  </thead>\n",
              "  <tbody>\n",
              "    <tr>\n",
              "      <th>0</th>\n",
              "      <td>0</td>\n",
              "      <td>0</td>\n",
              "      <td>찐빵</td>\n",
              "      <td>0</td>\n",
              "      <td>1</td>\n",
              "      <td>양식</td>\n",
              "      <td>빵류</td>\n",
              "    </tr>\n",
              "    <tr>\n",
              "      <th>1</th>\n",
              "      <td>1</td>\n",
              "      <td>0</td>\n",
              "      <td>맑은국</td>\n",
              "      <td>16</td>\n",
              "      <td>1</td>\n",
              "      <td>한식</td>\n",
              "      <td>국류</td>\n",
              "    </tr>\n",
              "    <tr>\n",
              "      <th>2</th>\n",
              "      <td>2</td>\n",
              "      <td>0</td>\n",
              "      <td>오징어찌개</td>\n",
              "      <td>1</td>\n",
              "      <td>2</td>\n",
              "      <td>한식</td>\n",
              "      <td>찌개류</td>\n",
              "    </tr>\n",
              "    <tr>\n",
              "      <th>3</th>\n",
              "      <td>3</td>\n",
              "      <td>0</td>\n",
              "      <td>육개장</td>\n",
              "      <td>2</td>\n",
              "      <td>3</td>\n",
              "      <td>한식</td>\n",
              "      <td>면류</td>\n",
              "    </tr>\n",
              "    <tr>\n",
              "      <th>4</th>\n",
              "      <td>4</td>\n",
              "      <td>0</td>\n",
              "      <td>단호박샌드</td>\n",
              "      <td>3</td>\n",
              "      <td>4</td>\n",
              "      <td>양식</td>\n",
              "      <td>빵류</td>\n",
              "    </tr>\n",
              "    <tr>\n",
              "      <th>...</th>\n",
              "      <td>...</td>\n",
              "      <td>...</td>\n",
              "      <td>...</td>\n",
              "      <td>...</td>\n",
              "      <td>...</td>\n",
              "      <td>...</td>\n",
              "      <td>...</td>\n",
              "    </tr>\n",
              "    <tr>\n",
              "      <th>401</th>\n",
              "      <td>402</td>\n",
              "      <td>4531</td>\n",
              "      <td>토마토스파게티</td>\n",
              "      <td>120</td>\n",
              "      <td>26</td>\n",
              "      <td>양식</td>\n",
              "      <td>면류</td>\n",
              "    </tr>\n",
              "    <tr>\n",
              "      <th>402</th>\n",
              "      <td>403</td>\n",
              "      <td>4531</td>\n",
              "      <td>카레라이스</td>\n",
              "      <td>2527</td>\n",
              "      <td>27</td>\n",
              "      <td>양식</td>\n",
              "      <td>밥류</td>\n",
              "    </tr>\n",
              "    <tr>\n",
              "      <th>403</th>\n",
              "      <td>404</td>\n",
              "      <td>4531</td>\n",
              "      <td>두부조림</td>\n",
              "      <td>1068</td>\n",
              "      <td>28</td>\n",
              "      <td>한식</td>\n",
              "      <td>조림류</td>\n",
              "    </tr>\n",
              "    <tr>\n",
              "      <th>404</th>\n",
              "      <td>376</td>\n",
              "      <td>4531</td>\n",
              "      <td>캠핑구이세트</td>\n",
              "      <td>2509</td>\n",
              "      <td>29</td>\n",
              "      <td>양식</td>\n",
              "      <td>구이류</td>\n",
              "    </tr>\n",
              "    <tr>\n",
              "      <th>405</th>\n",
              "      <td>405</td>\n",
              "      <td>4531</td>\n",
              "      <td>김밥볶음밥</td>\n",
              "      <td>2528</td>\n",
              "      <td>29</td>\n",
              "      <td>한식</td>\n",
              "      <td>밥류</td>\n",
              "    </tr>\n",
              "  </tbody>\n",
              "</table>\n",
              "<p>134560 rows × 7 columns</p>\n",
              "</div>\n",
              "      <button class=\"colab-df-convert\" onclick=\"convertToInteractive('df-5b239497-21bb-4765-befc-81ea045ba271')\"\n",
              "              title=\"Convert this dataframe to an interactive table.\"\n",
              "              style=\"display:none;\">\n",
              "        \n",
              "  <svg xmlns=\"http://www.w3.org/2000/svg\" height=\"24px\"viewBox=\"0 0 24 24\"\n",
              "       width=\"24px\">\n",
              "    <path d=\"M0 0h24v24H0V0z\" fill=\"none\"/>\n",
              "    <path d=\"M18.56 5.44l.94 2.06.94-2.06 2.06-.94-2.06-.94-.94-2.06-.94 2.06-2.06.94zm-11 1L8.5 8.5l.94-2.06 2.06-.94-2.06-.94L8.5 2.5l-.94 2.06-2.06.94zm10 10l.94 2.06.94-2.06 2.06-.94-2.06-.94-.94-2.06-.94 2.06-2.06.94z\"/><path d=\"M17.41 7.96l-1.37-1.37c-.4-.4-.92-.59-1.43-.59-.52 0-1.04.2-1.43.59L10.3 9.45l-7.72 7.72c-.78.78-.78 2.05 0 2.83L4 21.41c.39.39.9.59 1.41.59.51 0 1.02-.2 1.41-.59l7.78-7.78 2.81-2.81c.8-.78.8-2.07 0-2.86zM5.41 20L4 18.59l7.72-7.72 1.47 1.35L5.41 20z\"/>\n",
              "  </svg>\n",
              "      </button>\n",
              "      \n",
              "  <style>\n",
              "    .colab-df-container {\n",
              "      display:flex;\n",
              "      flex-wrap:wrap;\n",
              "      gap: 12px;\n",
              "    }\n",
              "\n",
              "    .colab-df-convert {\n",
              "      background-color: #E8F0FE;\n",
              "      border: none;\n",
              "      border-radius: 50%;\n",
              "      cursor: pointer;\n",
              "      display: none;\n",
              "      fill: #1967D2;\n",
              "      height: 32px;\n",
              "      padding: 0 0 0 0;\n",
              "      width: 32px;\n",
              "    }\n",
              "\n",
              "    .colab-df-convert:hover {\n",
              "      background-color: #E2EBFA;\n",
              "      box-shadow: 0px 1px 2px rgba(60, 64, 67, 0.3), 0px 1px 3px 1px rgba(60, 64, 67, 0.15);\n",
              "      fill: #174EA6;\n",
              "    }\n",
              "\n",
              "    [theme=dark] .colab-df-convert {\n",
              "      background-color: #3B4455;\n",
              "      fill: #D2E3FC;\n",
              "    }\n",
              "\n",
              "    [theme=dark] .colab-df-convert:hover {\n",
              "      background-color: #434B5C;\n",
              "      box-shadow: 0px 1px 3px 1px rgba(0, 0, 0, 0.15);\n",
              "      filter: drop-shadow(0px 1px 2px rgba(0, 0, 0, 0.3));\n",
              "      fill: #FFFFFF;\n",
              "    }\n",
              "  </style>\n",
              "\n",
              "      <script>\n",
              "        const buttonEl =\n",
              "          document.querySelector('#df-5b239497-21bb-4765-befc-81ea045ba271 button.colab-df-convert');\n",
              "        buttonEl.style.display =\n",
              "          google.colab.kernel.accessAllowed ? 'block' : 'none';\n",
              "\n",
              "        async function convertToInteractive(key) {\n",
              "          const element = document.querySelector('#df-5b239497-21bb-4765-befc-81ea045ba271');\n",
              "          const dataTable =\n",
              "            await google.colab.kernel.invokeFunction('convertToInteractive',\n",
              "                                                     [key], {});\n",
              "          if (!dataTable) return;\n",
              "\n",
              "          const docLinkHtml = 'Like what you see? Visit the ' +\n",
              "            '<a target=\"_blank\" href=https://colab.research.google.com/notebooks/data_table.ipynb>data table notebook</a>'\n",
              "            + ' to learn more about interactive tables.';\n",
              "          element.innerHTML = '';\n",
              "          dataTable['output_type'] = 'display_data';\n",
              "          await google.colab.output.renderOutput(dataTable, element);\n",
              "          const docLink = document.createElement('div');\n",
              "          docLink.innerHTML = docLinkHtml;\n",
              "          element.appendChild(docLink);\n",
              "        }\n",
              "      </script>\n",
              "    </div>\n",
              "  </div>\n",
              "  "
            ]
          },
          "metadata": {},
          "execution_count": 10
        }
      ]
    },
    {
      "cell_type": "code",
      "source": [
        "del data['Unnamed: 0.1']\n",
        "data.head()"
      ],
      "metadata": {
        "id": "xHhRaTMjxDs_",
        "colab": {
          "base_uri": "https://localhost:8080/",
          "height": 206
        },
        "outputId": "9936a6b0-24c8-4a47-d51d-ac77cc332cdb"
      },
      "execution_count": null,
      "outputs": [
        {
          "output_type": "execute_result",
          "data": {
            "text/plain": [
              "   user_id   menu  menu_id  timestamp category property\n",
              "0        0     찐빵        0          1       양식       빵류\n",
              "1        0    맑은국       16          1       한식       국류\n",
              "2        0  오징어찌개        1          2       한식      찌개류\n",
              "3        0    육개장        2          3       한식       면류\n",
              "4        0  단호박샌드        3          4       양식       빵류"
            ],
            "text/html": [
              "\n",
              "  <div id=\"df-603b8f13-2416-4abb-ba28-2a0e87649268\">\n",
              "    <div class=\"colab-df-container\">\n",
              "      <div>\n",
              "<style scoped>\n",
              "    .dataframe tbody tr th:only-of-type {\n",
              "        vertical-align: middle;\n",
              "    }\n",
              "\n",
              "    .dataframe tbody tr th {\n",
              "        vertical-align: top;\n",
              "    }\n",
              "\n",
              "    .dataframe thead th {\n",
              "        text-align: right;\n",
              "    }\n",
              "</style>\n",
              "<table border=\"1\" class=\"dataframe\">\n",
              "  <thead>\n",
              "    <tr style=\"text-align: right;\">\n",
              "      <th></th>\n",
              "      <th>user_id</th>\n",
              "      <th>menu</th>\n",
              "      <th>menu_id</th>\n",
              "      <th>timestamp</th>\n",
              "      <th>category</th>\n",
              "      <th>property</th>\n",
              "    </tr>\n",
              "  </thead>\n",
              "  <tbody>\n",
              "    <tr>\n",
              "      <th>0</th>\n",
              "      <td>0</td>\n",
              "      <td>찐빵</td>\n",
              "      <td>0</td>\n",
              "      <td>1</td>\n",
              "      <td>양식</td>\n",
              "      <td>빵류</td>\n",
              "    </tr>\n",
              "    <tr>\n",
              "      <th>1</th>\n",
              "      <td>0</td>\n",
              "      <td>맑은국</td>\n",
              "      <td>16</td>\n",
              "      <td>1</td>\n",
              "      <td>한식</td>\n",
              "      <td>국류</td>\n",
              "    </tr>\n",
              "    <tr>\n",
              "      <th>2</th>\n",
              "      <td>0</td>\n",
              "      <td>오징어찌개</td>\n",
              "      <td>1</td>\n",
              "      <td>2</td>\n",
              "      <td>한식</td>\n",
              "      <td>찌개류</td>\n",
              "    </tr>\n",
              "    <tr>\n",
              "      <th>3</th>\n",
              "      <td>0</td>\n",
              "      <td>육개장</td>\n",
              "      <td>2</td>\n",
              "      <td>3</td>\n",
              "      <td>한식</td>\n",
              "      <td>면류</td>\n",
              "    </tr>\n",
              "    <tr>\n",
              "      <th>4</th>\n",
              "      <td>0</td>\n",
              "      <td>단호박샌드</td>\n",
              "      <td>3</td>\n",
              "      <td>4</td>\n",
              "      <td>양식</td>\n",
              "      <td>빵류</td>\n",
              "    </tr>\n",
              "  </tbody>\n",
              "</table>\n",
              "</div>\n",
              "      <button class=\"colab-df-convert\" onclick=\"convertToInteractive('df-603b8f13-2416-4abb-ba28-2a0e87649268')\"\n",
              "              title=\"Convert this dataframe to an interactive table.\"\n",
              "              style=\"display:none;\">\n",
              "        \n",
              "  <svg xmlns=\"http://www.w3.org/2000/svg\" height=\"24px\"viewBox=\"0 0 24 24\"\n",
              "       width=\"24px\">\n",
              "    <path d=\"M0 0h24v24H0V0z\" fill=\"none\"/>\n",
              "    <path d=\"M18.56 5.44l.94 2.06.94-2.06 2.06-.94-2.06-.94-.94-2.06-.94 2.06-2.06.94zm-11 1L8.5 8.5l.94-2.06 2.06-.94-2.06-.94L8.5 2.5l-.94 2.06-2.06.94zm10 10l.94 2.06.94-2.06 2.06-.94-2.06-.94-.94-2.06-.94 2.06-2.06.94z\"/><path d=\"M17.41 7.96l-1.37-1.37c-.4-.4-.92-.59-1.43-.59-.52 0-1.04.2-1.43.59L10.3 9.45l-7.72 7.72c-.78.78-.78 2.05 0 2.83L4 21.41c.39.39.9.59 1.41.59.51 0 1.02-.2 1.41-.59l7.78-7.78 2.81-2.81c.8-.78.8-2.07 0-2.86zM5.41 20L4 18.59l7.72-7.72 1.47 1.35L5.41 20z\"/>\n",
              "  </svg>\n",
              "      </button>\n",
              "      \n",
              "  <style>\n",
              "    .colab-df-container {\n",
              "      display:flex;\n",
              "      flex-wrap:wrap;\n",
              "      gap: 12px;\n",
              "    }\n",
              "\n",
              "    .colab-df-convert {\n",
              "      background-color: #E8F0FE;\n",
              "      border: none;\n",
              "      border-radius: 50%;\n",
              "      cursor: pointer;\n",
              "      display: none;\n",
              "      fill: #1967D2;\n",
              "      height: 32px;\n",
              "      padding: 0 0 0 0;\n",
              "      width: 32px;\n",
              "    }\n",
              "\n",
              "    .colab-df-convert:hover {\n",
              "      background-color: #E2EBFA;\n",
              "      box-shadow: 0px 1px 2px rgba(60, 64, 67, 0.3), 0px 1px 3px 1px rgba(60, 64, 67, 0.15);\n",
              "      fill: #174EA6;\n",
              "    }\n",
              "\n",
              "    [theme=dark] .colab-df-convert {\n",
              "      background-color: #3B4455;\n",
              "      fill: #D2E3FC;\n",
              "    }\n",
              "\n",
              "    [theme=dark] .colab-df-convert:hover {\n",
              "      background-color: #434B5C;\n",
              "      box-shadow: 0px 1px 3px 1px rgba(0, 0, 0, 0.15);\n",
              "      filter: drop-shadow(0px 1px 2px rgba(0, 0, 0, 0.3));\n",
              "      fill: #FFFFFF;\n",
              "    }\n",
              "  </style>\n",
              "\n",
              "      <script>\n",
              "        const buttonEl =\n",
              "          document.querySelector('#df-603b8f13-2416-4abb-ba28-2a0e87649268 button.colab-df-convert');\n",
              "        buttonEl.style.display =\n",
              "          google.colab.kernel.accessAllowed ? 'block' : 'none';\n",
              "\n",
              "        async function convertToInteractive(key) {\n",
              "          const element = document.querySelector('#df-603b8f13-2416-4abb-ba28-2a0e87649268');\n",
              "          const dataTable =\n",
              "            await google.colab.kernel.invokeFunction('convertToInteractive',\n",
              "                                                     [key], {});\n",
              "          if (!dataTable) return;\n",
              "\n",
              "          const docLinkHtml = 'Like what you see? Visit the ' +\n",
              "            '<a target=\"_blank\" href=https://colab.research.google.com/notebooks/data_table.ipynb>data table notebook</a>'\n",
              "            + ' to learn more about interactive tables.';\n",
              "          element.innerHTML = '';\n",
              "          dataTable['output_type'] = 'display_data';\n",
              "          await google.colab.output.renderOutput(dataTable, element);\n",
              "          const docLink = document.createElement('div');\n",
              "          docLink.innerHTML = docLinkHtml;\n",
              "          element.appendChild(docLink);\n",
              "        }\n",
              "      </script>\n",
              "    </div>\n",
              "  </div>\n",
              "  "
            ]
          },
          "metadata": {},
          "execution_count": 6
        }
      ]
    },
    {
      "cell_type": "code",
      "source": [
        "# session별 history\n",
        "history = data.groupby('user_id').menu.apply(list)\n",
        "history.head()"
      ],
      "metadata": {
        "colab": {
          "base_uri": "https://localhost:8080/"
        },
        "id": "UdwMXOTHJ733",
        "outputId": "c0f50327-9800-4481-879b-2e002dcee096"
      },
      "execution_count": null,
      "outputs": [
        {
          "output_type": "execute_result",
          "data": {
            "text/plain": [
              "user_id\n",
              "0    [찐빵, 맑은국, 오징어찌개, 육개장, 단호박샌드, 김치찌개, 어묵국, 베이글, 팽...\n",
              "1    [근대된장국, 인절미토스트, 우동, 유부장국, 순두부찌개, 씨크립샌드, 대구찌개, ...\n",
              "2    [베이컨샌드, 사골우거지국, 사과파이, 양송이스프, 부대찌개, 오징어국, 브라우니,...\n",
              "3    [어묵국, 단팥빵, 매운콩나물국, 크로와상, 잔치국수, 시금치국, 닭곰탕, 마늘빵,...\n",
              "4    [수제비국, 팽이버섯장국, 크로와상, 냉이된장찌개, 야채샌드, 들깨미역국, 버섯들깨...\n",
              "Name: menu, dtype: object"
            ]
          },
          "metadata": {},
          "execution_count": 7
        }
      ]
    },
    {
      "cell_type": "code",
      "source": [
        "# 컬럼명 변경\n",
        "data.rename(columns={'user_id':'session', 'menu':'item'}, inplace=True)\n",
        "data.head()"
      ],
      "metadata": {
        "colab": {
          "base_uri": "https://localhost:8080/",
          "height": 206
        },
        "id": "6qGxSWVNKQWK",
        "outputId": "b25e9757-ee5f-4620-9691-4a3462e1f7bf"
      },
      "execution_count": null,
      "outputs": [
        {
          "output_type": "execute_result",
          "data": {
            "text/plain": [
              "   session   item  menu_id  timestamp category property\n",
              "0        0     찐빵        0          1       양식       빵류\n",
              "1        0    맑은국       16          1       한식       국류\n",
              "2        0  오징어찌개        1          2       한식      찌개류\n",
              "3        0    육개장        2          3       한식       면류\n",
              "4        0  단호박샌드        3          4       양식       빵류"
            ],
            "text/html": [
              "\n",
              "  <div id=\"df-115959b0-72c5-44fd-b4df-c4ca9acc4fb7\">\n",
              "    <div class=\"colab-df-container\">\n",
              "      <div>\n",
              "<style scoped>\n",
              "    .dataframe tbody tr th:only-of-type {\n",
              "        vertical-align: middle;\n",
              "    }\n",
              "\n",
              "    .dataframe tbody tr th {\n",
              "        vertical-align: top;\n",
              "    }\n",
              "\n",
              "    .dataframe thead th {\n",
              "        text-align: right;\n",
              "    }\n",
              "</style>\n",
              "<table border=\"1\" class=\"dataframe\">\n",
              "  <thead>\n",
              "    <tr style=\"text-align: right;\">\n",
              "      <th></th>\n",
              "      <th>session</th>\n",
              "      <th>item</th>\n",
              "      <th>menu_id</th>\n",
              "      <th>timestamp</th>\n",
              "      <th>category</th>\n",
              "      <th>property</th>\n",
              "    </tr>\n",
              "  </thead>\n",
              "  <tbody>\n",
              "    <tr>\n",
              "      <th>0</th>\n",
              "      <td>0</td>\n",
              "      <td>찐빵</td>\n",
              "      <td>0</td>\n",
              "      <td>1</td>\n",
              "      <td>양식</td>\n",
              "      <td>빵류</td>\n",
              "    </tr>\n",
              "    <tr>\n",
              "      <th>1</th>\n",
              "      <td>0</td>\n",
              "      <td>맑은국</td>\n",
              "      <td>16</td>\n",
              "      <td>1</td>\n",
              "      <td>한식</td>\n",
              "      <td>국류</td>\n",
              "    </tr>\n",
              "    <tr>\n",
              "      <th>2</th>\n",
              "      <td>0</td>\n",
              "      <td>오징어찌개</td>\n",
              "      <td>1</td>\n",
              "      <td>2</td>\n",
              "      <td>한식</td>\n",
              "      <td>찌개류</td>\n",
              "    </tr>\n",
              "    <tr>\n",
              "      <th>3</th>\n",
              "      <td>0</td>\n",
              "      <td>육개장</td>\n",
              "      <td>2</td>\n",
              "      <td>3</td>\n",
              "      <td>한식</td>\n",
              "      <td>면류</td>\n",
              "    </tr>\n",
              "    <tr>\n",
              "      <th>4</th>\n",
              "      <td>0</td>\n",
              "      <td>단호박샌드</td>\n",
              "      <td>3</td>\n",
              "      <td>4</td>\n",
              "      <td>양식</td>\n",
              "      <td>빵류</td>\n",
              "    </tr>\n",
              "  </tbody>\n",
              "</table>\n",
              "</div>\n",
              "      <button class=\"colab-df-convert\" onclick=\"convertToInteractive('df-115959b0-72c5-44fd-b4df-c4ca9acc4fb7')\"\n",
              "              title=\"Convert this dataframe to an interactive table.\"\n",
              "              style=\"display:none;\">\n",
              "        \n",
              "  <svg xmlns=\"http://www.w3.org/2000/svg\" height=\"24px\"viewBox=\"0 0 24 24\"\n",
              "       width=\"24px\">\n",
              "    <path d=\"M0 0h24v24H0V0z\" fill=\"none\"/>\n",
              "    <path d=\"M18.56 5.44l.94 2.06.94-2.06 2.06-.94-2.06-.94-.94-2.06-.94 2.06-2.06.94zm-11 1L8.5 8.5l.94-2.06 2.06-.94-2.06-.94L8.5 2.5l-.94 2.06-2.06.94zm10 10l.94 2.06.94-2.06 2.06-.94-2.06-.94-.94-2.06-.94 2.06-2.06.94z\"/><path d=\"M17.41 7.96l-1.37-1.37c-.4-.4-.92-.59-1.43-.59-.52 0-1.04.2-1.43.59L10.3 9.45l-7.72 7.72c-.78.78-.78 2.05 0 2.83L4 21.41c.39.39.9.59 1.41.59.51 0 1.02-.2 1.41-.59l7.78-7.78 2.81-2.81c.8-.78.8-2.07 0-2.86zM5.41 20L4 18.59l7.72-7.72 1.47 1.35L5.41 20z\"/>\n",
              "  </svg>\n",
              "      </button>\n",
              "      \n",
              "  <style>\n",
              "    .colab-df-container {\n",
              "      display:flex;\n",
              "      flex-wrap:wrap;\n",
              "      gap: 12px;\n",
              "    }\n",
              "\n",
              "    .colab-df-convert {\n",
              "      background-color: #E8F0FE;\n",
              "      border: none;\n",
              "      border-radius: 50%;\n",
              "      cursor: pointer;\n",
              "      display: none;\n",
              "      fill: #1967D2;\n",
              "      height: 32px;\n",
              "      padding: 0 0 0 0;\n",
              "      width: 32px;\n",
              "    }\n",
              "\n",
              "    .colab-df-convert:hover {\n",
              "      background-color: #E2EBFA;\n",
              "      box-shadow: 0px 1px 2px rgba(60, 64, 67, 0.3), 0px 1px 3px 1px rgba(60, 64, 67, 0.15);\n",
              "      fill: #174EA6;\n",
              "    }\n",
              "\n",
              "    [theme=dark] .colab-df-convert {\n",
              "      background-color: #3B4455;\n",
              "      fill: #D2E3FC;\n",
              "    }\n",
              "\n",
              "    [theme=dark] .colab-df-convert:hover {\n",
              "      background-color: #434B5C;\n",
              "      box-shadow: 0px 1px 3px 1px rgba(0, 0, 0, 0.15);\n",
              "      filter: drop-shadow(0px 1px 2px rgba(0, 0, 0, 0.3));\n",
              "      fill: #FFFFFF;\n",
              "    }\n",
              "  </style>\n",
              "\n",
              "      <script>\n",
              "        const buttonEl =\n",
              "          document.querySelector('#df-115959b0-72c5-44fd-b4df-c4ca9acc4fb7 button.colab-df-convert');\n",
              "        buttonEl.style.display =\n",
              "          google.colab.kernel.accessAllowed ? 'block' : 'none';\n",
              "\n",
              "        async function convertToInteractive(key) {\n",
              "          const element = document.querySelector('#df-115959b0-72c5-44fd-b4df-c4ca9acc4fb7');\n",
              "          const dataTable =\n",
              "            await google.colab.kernel.invokeFunction('convertToInteractive',\n",
              "                                                     [key], {});\n",
              "          if (!dataTable) return;\n",
              "\n",
              "          const docLinkHtml = 'Like what you see? Visit the ' +\n",
              "            '<a target=\"_blank\" href=https://colab.research.google.com/notebooks/data_table.ipynb>data table notebook</a>'\n",
              "            + ' to learn more about interactive tables.';\n",
              "          element.innerHTML = '';\n",
              "          dataTable['output_type'] = 'display_data';\n",
              "          await google.colab.output.renderOutput(dataTable, element);\n",
              "          const docLink = document.createElement('div');\n",
              "          docLink.innerHTML = docLinkHtml;\n",
              "          element.appendChild(docLink);\n",
              "        }\n",
              "      </script>\n",
              "    </div>\n",
              "  </div>\n",
              "  "
            ]
          },
          "metadata": {},
          "execution_count": 8
        }
      ]
    },
    {
      "cell_type": "code",
      "source": [
        "# 새롭게 저장\n",
        "data.to_csv(\"dacon_menu_sj.csv\")"
      ],
      "metadata": {
        "id": "pRqPi1jkKQeA"
      },
      "execution_count": null,
      "outputs": []
    },
    {
      "cell_type": "code",
      "source": [
        "data.shape"
      ],
      "metadata": {
        "colab": {
          "base_uri": "https://localhost:8080/"
        },
        "id": "E6Mgl6p9ONJH",
        "outputId": "6795c04b-3b5f-487e-acca-8b8bd9557108"
      },
      "execution_count": null,
      "outputs": [
        {
          "output_type": "execute_result",
          "data": {
            "text/plain": [
              "(134560, 6)"
            ]
          },
          "metadata": {},
          "execution_count": 10
        }
      ]
    },
    {
      "cell_type": "markdown",
      "source": [
        "1. 학습 설정"
      ],
      "metadata": {
        "id": "5FnhJvUwKbLY"
      }
    },
    {
      "cell_type": "code",
      "source": [
        "config = {\n",
        "    'data_path' : \"/content/drive/MyDrive/data\" , # 데이터 경로\n",
        "\n",
        "    'model_path' : \"/content/drive/MyDrive/data\", # 모델 저장 경로\n",
        "    'model_name' : 'LightGCN.pt',\n",
        "\n",
        "    'num_epochs' : 50,\n",
        "    \"reg\" : 1e-5,\n",
        "    'lr' : 0.001,\n",
        "    \"emb_dim\" : 128,\n",
        "    \"n_layers\" : 5,\n",
        "    'batch_size' : 128,\n",
        "    \"node_dropout\" : 0.2,\n",
        "\n",
        "    'valid_samples' : 10, # 검증에 사용할 sample 수\n",
        "    'seed' : 22,\n",
        "    'n_batch' : 10,\n",
        "}\n",
        "\n",
        "device = 'cuda' if torch.cuda.is_available() else 'cpu'\n",
        "\n",
        "config = Box(config)"
      ],
      "metadata": {
        "id": "amqUg5raKQgL"
      },
      "execution_count": null,
      "outputs": []
    },
    {
      "cell_type": "code",
      "source": [
        "if not os.path.isdir(config.model_path):\n",
        "    os.mkdir(config.model_path)"
      ],
      "metadata": {
        "id": "eUDK7rXuKQiS"
      },
      "execution_count": null,
      "outputs": []
    },
    {
      "cell_type": "markdown",
      "source": [
        "2. 데이터 전처리"
      ],
      "metadata": {
        "id": "6ZJWRyqxLduT"
      }
    },
    {
      "cell_type": "code",
      "source": [
        "class MakeGraphDataSet():\n",
        "    \"\"\"\n",
        "    GraphDataSet 생성\n",
        "    \"\"\"\n",
        "    def __init__(self, config):\n",
        "        self.config = config\n",
        "        self.df = pd.read_csv(os.path.join(self.config.data_path, 'dacon_menu_sj.csv'))\n",
        "\n",
        "        self.item_encoder, self.item_decoder = self.generate_encoder_decoder('menu_id')\n",
        "        self.user_encoder, self.user_decoder = self.generate_encoder_decoder('session')\n",
        "        self.num_item, self.num_user = len(self.item_encoder), len(self.user_encoder)\n",
        "\n",
        "        self.df['item_idx'] = self.df['menu_id'].apply(lambda x : self.item_encoder[x])\n",
        "        self.df['user_idx'] = self.df['session'].apply(lambda x : self.user_encoder[x])\n",
        "        \n",
        "        self.exist_users = [i for i in range(self.num_user)]\n",
        "        self.exist_items = [i for i in range(self.num_item)]\n",
        "        self.user_train, self.user_valid = self.generate_sequence_data()\n",
        "        self.R_train, self.R_valid, self.R_total = self.generate_dok_matrix()\n",
        "        self.ngcf_adj_matrix = self.generate_ngcf_adj_matrix()\n",
        "        self.n_train = len(self.R_train)\n",
        "        self.batch_size = self.config.batch_size\n",
        "\n",
        "    def generate_encoder_decoder(self, col : str) -> dict:\n",
        "        \"\"\"\n",
        "        encoder, decoder 생성\n",
        "\n",
        "        Args:\n",
        "            col (str): 생성할 columns 명\n",
        "        Returns:\n",
        "            dict: 생성된 user encoder, decoder\n",
        "        \"\"\"\n",
        "\n",
        "        encoder = {}\n",
        "        decoder = {}\n",
        "        ids = self.df[col].unique()\n",
        "\n",
        "        for idx, _id in enumerate(ids):\n",
        "            encoder[_id] = idx\n",
        "            decoder[idx] = _id\n",
        "\n",
        "        return encoder, decoder\n",
        "    \n",
        "    def generate_sequence_data(self) -> dict:\n",
        "        \"\"\"\n",
        "        sequence_data 생성\n",
        "\n",
        "        Returns:\n",
        "            dict: train user sequence / valid user sequence\n",
        "        \"\"\"\n",
        "        users = defaultdict(list)\n",
        "        user_train = {}\n",
        "        user_valid = {}\n",
        "        for user, item, time in zip(self.df['user_idx'], self.df['item_idx'], self.df['timestamp']):\n",
        "            users[user].append(item)\n",
        "        \n",
        "        for user in users:\n",
        "            np.random.seed(self.config.seed)\n",
        "\n",
        "            user_total = users[user]\n",
        "            valid = np.random.choice(user_total, size = self.config.valid_samples, replace = False).tolist()\n",
        "            train = list(set(user_total) - set(valid))\n",
        "\n",
        "            user_train[user] = train\n",
        "            user_valid[user] = valid # valid_samples 개수 만큼 검증에 활용 (현재 Task와 가장 유사하게)\n",
        "\n",
        "        return user_train, user_valid\n",
        "    \n",
        "    def generate_dok_matrix(self):\n",
        "        R_train = sp.dok_matrix((self.num_user, self.num_item), dtype=np.float32)\n",
        "        R_valid = sp.dok_matrix((self.num_user, self.num_item), dtype=np.float32)\n",
        "        R_total = sp.dok_matrix((self.num_user, self.num_item), dtype=np.float32)\n",
        "        user_list = self.exist_users\n",
        "        for user in user_list:\n",
        "            train_items = self.user_train[user]\n",
        "            valid_items = self.user_valid[user]\n",
        "            \n",
        "            for train_item in train_items:\n",
        "                R_train[user, train_item] = 1.0\n",
        "                R_total[user, train_item] = 1.0\n",
        "            \n",
        "            for valid_item in valid_items:\n",
        "                R_valid[user, valid_item] = 1.0\n",
        "                R_total[user, valid_item] = 1.0\n",
        "        \n",
        "        return R_train, R_valid, R_total\n",
        "\n",
        "    def generate_ngcf_adj_matrix(self):\n",
        "        adj_mat = sp.dok_matrix((self.num_user + self.num_item, self.num_user + self.num_item), dtype=np.float32)\n",
        "        adj_mat = adj_mat.tolil() # to_list\n",
        "        R = self.R_train.tolil()\n",
        "\n",
        "        adj_mat[:self.num_user, self.num_user:] = R\n",
        "        adj_mat[self.num_user:, :self.num_user] = R.T\n",
        "        adj_mat = adj_mat.todok() # to_dok_matrix\n",
        "\n",
        "        def normalized_adj_single(adj):\n",
        "            rowsum = np.array(adj.sum(1))\n",
        "            d_inv = np.power(rowsum, -.5).flatten()  \n",
        "            d_inv[np.isinf(d_inv)] = 0.\n",
        "            d_mat_inv = sp.diags(d_inv)\n",
        "            norm_adj = d_mat_inv.dot(adj).dot(d_mat_inv)\n",
        "\n",
        "            return norm_adj.tocoo()\n",
        "\n",
        "        ngcf_adj_matrix = normalized_adj_single(adj_mat)\n",
        "        return ngcf_adj_matrix.tocsr()\n",
        "\n",
        "    def sampling(self):\n",
        "        users = random.sample(self.exist_users, self.config.batch_size)\n",
        "\n",
        "        def sample_pos_items_for_u(u, num):\n",
        "            pos_items = self.user_train[u]\n",
        "            pos_batch = random.sample(pos_items, num)\n",
        "            return pos_batch\n",
        "        \n",
        "        def sample_neg_items_for_u(u, num):\n",
        "            neg_items = list(set(self.exist_items) - set(self.user_train[u]))\n",
        "            neg_batch = random.sample(neg_items, num)\n",
        "            return neg_batch\n",
        "        \n",
        "        pos_items, neg_items = [], []\n",
        "        for user in users:\n",
        "            pos_items += sample_pos_items_for_u(user, 1)\n",
        "            neg_items += sample_neg_items_for_u(user, 1)\n",
        "        \n",
        "        return users, pos_items, neg_items\n",
        "\n",
        "    def get_train_valid_data(self):\n",
        "        return self.user_train, self.user_valid\n",
        "\n",
        "    def get_R_data(self):\n",
        "        return self.R_train, self.R_valid, self.R_total\n",
        "\n",
        "    def get_ngcf_adj_matrix_data(self):\n",
        "        return self.ngcf_adj_matrix"
      ],
      "metadata": {
        "id": "d3zEuh3IKQnQ"
      },
      "execution_count": null,
      "outputs": []
    },
    {
      "cell_type": "markdown",
      "source": [
        "3. 모델"
      ],
      "metadata": {
        "id": "acF_yyPALaHH"
      }
    },
    {
      "cell_type": "code",
      "source": [
        "class LightGCN(nn.Module):\n",
        "    def __init__(self, n_users, n_items, emb_dim, n_layers, reg, node_dropout, adj_mtx):\n",
        "        super().__init__()\n",
        "\n",
        "        # initialize Class attributes\n",
        "        self.n_users = n_users\n",
        "        self.n_items = n_items\n",
        "        self.emb_dim = emb_dim\n",
        "        self.l = adj_mtx\n",
        "        self.graph = self._convert_sp_mat_to_sp_tensor(self.l)\n",
        "\n",
        "        self.reg = reg\n",
        "        self.n_layers = n_layers\n",
        "        self.node_dropout = node_dropout\n",
        "\n",
        "        # Initialize weights\n",
        "        self.weight_dict = self._init_weights()\n",
        "        print(\"Weights initialized.\")\n",
        "\n",
        "    # initialize weights\n",
        "    def _init_weights(self):\n",
        "        print(\"Initializing weights...\")\n",
        "        weight_dict = nn.ParameterDict()\n",
        "\n",
        "        initializer = torch.nn.init.xavier_uniform_\n",
        "        \n",
        "        weight_dict['user_embedding'] = nn.Parameter(initializer(torch.empty(self.n_users, self.emb_dim).to(device)))\n",
        "        weight_dict['item_embedding'] = nn.Parameter(initializer(torch.empty(self.n_items, self.emb_dim).to(device)))\n",
        "           \n",
        "        return weight_dict\n",
        "\n",
        "    # convert sparse matrix into sparse PyTorch tensor\n",
        "    def _convert_sp_mat_to_sp_tensor(self, X):\n",
        "        \"\"\"\n",
        "        Convert scipy sparse matrix to PyTorch sparse matrix\n",
        "\n",
        "        Arguments:\n",
        "        ----------\n",
        "        X = Adjacency matrix, scipy sparse matrix\n",
        "        \"\"\"\n",
        "        coo = X.tocoo().astype(np.float32)\n",
        "        i = torch.LongTensor(np.mat([coo.row, coo.col]))\n",
        "        v = torch.FloatTensor(coo.data)\n",
        "        res = torch.sparse.FloatTensor(i, v, coo.shape).to(device)\n",
        "        return res\n",
        "\n",
        "    # apply node_dropout\n",
        "    def _droupout_sparse(self, X):\n",
        "        \"\"\"\n",
        "        Drop individual locations in X\n",
        "        \n",
        "        Arguments:\n",
        "        ---------\n",
        "        X = adjacency matrix (PyTorch sparse tensor)\n",
        "        dropout = fraction of nodes to drop\n",
        "        noise_shape = number of non non-zero entries of X\n",
        "        \"\"\"\n",
        "        node_dropout_mask = ((self.node_dropout) + torch.rand(X._nnz())).floor().bool().to(device)\n",
        "        i = X.coalesce().indices()\n",
        "        v = X.coalesce()._values()\n",
        "        i[:,node_dropout_mask] = 0\n",
        "        v[node_dropout_mask] = 0\n",
        "        X_dropout = torch.sparse.FloatTensor(i, v, X.shape).to(X.device)\n",
        "\n",
        "        return  X_dropout.mul(1/(1-self.node_dropout))\n",
        "\n",
        "    def forward(self, u, i, j):\n",
        "        \"\"\"\n",
        "        Computes the forward pass\n",
        "        \n",
        "        Arguments:\n",
        "        ---------\n",
        "        u = user\n",
        "        i = positive item (user interacted with item)\n",
        "        j = negative item (user did not interact with item)\n",
        "        \"\"\"\n",
        "        # apply drop-out mask\n",
        "        graph = self._droupout_sparse(self.graph) if self.node_dropout > 0 else self.graph\n",
        "        ego_embeddings = torch.cat([self.weight_dict['user_embedding'], self.weight_dict['item_embedding']], 0)\n",
        "        final_embeddings = [ego_embeddings]\n",
        "\n",
        "        for k in range(self.n_layers):\n",
        "            ego_embeddings = torch.sparse.mm(graph, final_embeddings[k])\n",
        "            final_embeddings.append(ego_embeddings)                                       \n",
        "\n",
        "        final_embeddings = torch.stack(final_embeddings, dim=1)\n",
        "        final_embeddings = torch.mean(final_embeddings, dim=1)\n",
        "        \n",
        "        u_final_embeddings, i_final_embeddings = final_embeddings.split([self.n_users, self.n_items], 0)\n",
        "\n",
        "        self.u_final_embeddings = nn.Parameter(u_final_embeddings) # 4532 * 128\n",
        "        self.i_final_embeddings = nn.Parameter(i_final_embeddings) # 2527 * 128\n",
        "        \n",
        "        # loss 계산\n",
        "        u_emb = u_final_embeddings[u] # user embeddings 128 * 128\n",
        "        p_emb = i_final_embeddings[i] # positive item embeddings\n",
        "        n_emb = i_final_embeddings[j] # negative item embeddings\n",
        "        \n",
        "        y_ui = torch.sum(torch.mul(u_emb, p_emb), dim = 1)     # 이게 예측값                   \n",
        "        y_uj = torch.sum(torch.mul(u_emb, n_emb), dim = 1)\n",
        "    \n",
        "        log_prob = torch.mean(torch.log(torch.sigmoid(y_ui - y_uj))) \n",
        "        bpr_loss = -log_prob        \n",
        "        if self.reg > 0.:\n",
        "            l2norm = (torch.sum(u_emb**2)/2. + torch.sum(p_emb**2)/2. + torch.sum(n_emb**2)/2.) / u_emb.shape[0]\n",
        "            l2reg = self.reg * l2norm\n",
        "            bpr_loss += l2reg\n",
        "\n",
        "        return bpr_loss"
      ],
      "metadata": {
        "id": "qUFgJS3jLGHc"
      },
      "execution_count": null,
      "outputs": []
    },
    {
      "cell_type": "markdown",
      "source": [
        "4. 학습 함수"
      ],
      "metadata": {
        "id": "4oKNFIxmLvSN"
      }
    },
    {
      "cell_type": "code",
      "source": [
        "def train(model, make_graph_data_set, optimizer, n_batch):\n",
        "    model.train()\n",
        "    loss_val = 0\n",
        "    for step in range(1, n_batch + 1):\n",
        "        user, pos, neg = make_graph_data_set.sampling()\n",
        "        optimizer.zero_grad()\n",
        "        loss = model(user, pos, neg)\n",
        "        loss.backward()\n",
        "        optimizer.step()\n",
        "        loss_val += loss.item()\n",
        "    loss_val /= n_batch\n",
        "    return loss_val\n",
        "\n",
        "def split_matrix(X, n_splits=10):\n",
        "    splits = []\n",
        "    chunk_size = X.shape[0] // n_splits\n",
        "    for i in range(n_splits):\n",
        "        start = i * chunk_size\n",
        "        end = X.shape[0] if i == n_splits - 1 else (i + 1) * chunk_size\n",
        "        splits.append(X[start:end])\n",
        "    return splits\n",
        "\n",
        "def compute_ndcg_k(pred_items, test_items, test_indices, k):\n",
        "    \n",
        "    r = (test_items * pred_items).gather(1, test_indices)\n",
        "    f = torch.from_numpy(np.log2(np.arange(2, k+2))).float().to(device)\n",
        "    \n",
        "    dcg = (r[:, :k]/f).sum(1)                                               \n",
        "    dcg_max = (torch.sort(r, dim=1, descending=True)[0][:, :k]/f).sum(1)   \n",
        "    ndcg = dcg/dcg_max                                                     \n",
        "    \n",
        "    ndcg[torch.isnan(ndcg)] = 0\n",
        "    return ndcg\n",
        "\n",
        "def evaluate(u_emb, i_emb, Rtr, Rte, k = 10):\n",
        "\n",
        "    # split matrices\n",
        "    ue_splits = split_matrix(u_emb)\n",
        "    tr_splits = split_matrix(Rtr)\n",
        "    te_splits = split_matrix(Rte)\n",
        "\n",
        "    recall_k, ndcg_k= [], []\n",
        "    # compute results for split matrices\n",
        "    for ue_f, tr_f, te_f in zip(ue_splits, tr_splits, te_splits):\n",
        "\n",
        "        scores = torch.mm(ue_f, i_emb.t())\n",
        "\n",
        "        test_items = torch.from_numpy(te_f.todense()).float().to(device)\n",
        "        non_train_items = torch.from_numpy(1-(tr_f.todense())).float().to(device)\n",
        "        scores = scores * non_train_items\n",
        "\n",
        "        _, test_indices = torch.topk(scores, dim=1, k=k)\n",
        "        \n",
        "        pred_items = torch.zeros_like(scores).float()\n",
        "        pred_items.scatter_(dim=1, index=test_indices, src=torch.ones_like(test_indices).float().to(device))\n",
        "\n",
        "        topk_preds = torch.zeros_like(scores).float()\n",
        "        topk_preds.scatter_(dim=1, index=test_indices[:, :k], src=torch.ones_like(test_indices).float())\n",
        "        \n",
        "        TP = (test_items * topk_preds).sum(1)                      \n",
        "        rec = TP/test_items.sum(1)\n",
        "   \n",
        "        ndcg = compute_ndcg_k(pred_items, test_items, test_indices, k)\n",
        "\n",
        "        recall_k.append(rec)\n",
        "        ndcg_k.append(ndcg)\n",
        "\n",
        "    return torch.cat(ndcg_k).mean(), torch.cat(recall_k).mean()"
      ],
      "metadata": {
        "id": "5znInlm5LGJe"
      },
      "execution_count": null,
      "outputs": []
    },
    {
      "cell_type": "markdown",
      "source": [
        "5. 학습"
      ],
      "metadata": {
        "id": "qZU0LDinL0sk"
      }
    },
    {
      "cell_type": "code",
      "source": [
        "make_graph_data_set = MakeGraphDataSet(config = config)\n",
        "ngcf_adj_matrix = make_graph_data_set.get_ngcf_adj_matrix_data()\n",
        "R_train, R_valid, R_total = make_graph_data_set.get_R_data()"
      ],
      "metadata": {
        "id": "tdY2xwLjLGNV"
      },
      "execution_count": null,
      "outputs": []
    },
    {
      "cell_type": "code",
      "source": [
        "model = LightGCN(\n",
        "    n_users = make_graph_data_set.num_user,\n",
        "    n_items = make_graph_data_set.num_item,\n",
        "    emb_dim = config.emb_dim,\n",
        "    n_layers = config.n_layers,\n",
        "    reg = config.reg,\n",
        "    node_dropout = config.node_dropout,\n",
        "    adj_mtx = ngcf_adj_matrix,\n",
        "    ).to(device)\n",
        "\n",
        "optimizer = torch.optim.Adam(model.parameters(), lr=config.lr)"
      ],
      "metadata": {
        "colab": {
          "base_uri": "https://localhost:8080/"
        },
        "id": "ZuGZwkdvLGPX",
        "outputId": "86b1b06b-b50e-45ce-8518-710080fb845f"
      },
      "execution_count": null,
      "outputs": [
        {
          "output_type": "stream",
          "name": "stdout",
          "text": [
            "Initializing weights...\n",
            "Weights initialized.\n"
          ]
        }
      ]
    },
    {
      "cell_type": "code",
      "source": [
        "best_hit = 0\n",
        "loss_list = []\n",
        "ndcg_list = []\n",
        "hit_list = []\n",
        "for epoch in range(1, config.num_epochs + 1):\n",
        "    tbar = tqdm(range(1))\n",
        "    for _ in tbar:\n",
        "        train_loss = train(\n",
        "            model = model, \n",
        "            make_graph_data_set = make_graph_data_set, \n",
        "            optimizer = optimizer,\n",
        "            n_batch = config.n_batch,\n",
        "            )\n",
        "        with torch.no_grad():\n",
        "            ndcg, hit = evaluate(\n",
        "                u_emb = model.u_final_embeddings.detach(), \n",
        "                i_emb = model.i_final_embeddings.detach(), \n",
        "                Rtr = R_train, \n",
        "                Rte = R_valid, \n",
        "                k = 10,\n",
        "                )\n",
        "\n",
        "        if best_hit < hit:\n",
        "            best_hit = hit\n",
        "            torch.save(model.state_dict(), os.path.join(config.model_path, config.model_name))\n",
        "\n",
        "        loss_list.append(train_loss)\n",
        "        ndcg_list.append(ndcg)\n",
        "        hit_list.append(hit)    \n",
        "\n",
        "        tbar.set_description(f'Epoch: {epoch:3d}| Train loss: {train_loss:.5f}| NDCG@10: {ndcg:.5f}| HIT@10: {hit:.5f}')"
      ],
      "metadata": {
        "colab": {
          "base_uri": "https://localhost:8080/",
          "height": 408
        },
        "id": "WVxEtlU8LGTG",
        "outputId": "d769cf27-469d-45e9-b91e-dab950ae211a"
      },
      "execution_count": null,
      "outputs": [
        {
          "output_type": "stream",
          "name": "stderr",
          "text": [
            "Epoch:   1| Train loss: 0.69278| NDCG@10: 0.25580| HIT@10: 0.06918: 100%|██████████| 1/1 [00:04<00:00,  4.56s/it]\n",
            "  0%|          | 0/1 [00:02<?, ?it/s]\n"
          ]
        },
        {
          "output_type": "error",
          "ename": "KeyboardInterrupt",
          "evalue": "ignored",
          "traceback": [
            "\u001b[0;31m---------------------------------------------------------------------------\u001b[0m",
            "\u001b[0;31mKeyboardInterrupt\u001b[0m                         Traceback (most recent call last)",
            "\u001b[0;32m<ipython-input-18-02dea784d1b6>\u001b[0m in \u001b[0;36m<module>\u001b[0;34m\u001b[0m\n\u001b[1;32m     18\u001b[0m                 \u001b[0mRtr\u001b[0m \u001b[0;34m=\u001b[0m \u001b[0mR_train\u001b[0m\u001b[0;34m,\u001b[0m\u001b[0;34m\u001b[0m\u001b[0;34m\u001b[0m\u001b[0m\n\u001b[1;32m     19\u001b[0m                 \u001b[0mRte\u001b[0m \u001b[0;34m=\u001b[0m \u001b[0mR_valid\u001b[0m\u001b[0;34m,\u001b[0m\u001b[0;34m\u001b[0m\u001b[0;34m\u001b[0m\u001b[0m\n\u001b[0;32m---> 20\u001b[0;31m                 \u001b[0mk\u001b[0m \u001b[0;34m=\u001b[0m \u001b[0;36m10\u001b[0m\u001b[0;34m,\u001b[0m\u001b[0;34m\u001b[0m\u001b[0;34m\u001b[0m\u001b[0m\n\u001b[0m\u001b[1;32m     21\u001b[0m                 )\n\u001b[1;32m     22\u001b[0m \u001b[0;34m\u001b[0m\u001b[0m\n",
            "\u001b[0;32m<ipython-input-15-872142ceeed8>\u001b[0m in \u001b[0;36mevaluate\u001b[0;34m(u_emb, i_emb, Rtr, Rte, k)\u001b[0m\n\u001b[1;32m     48\u001b[0m         \u001b[0mtest_items\u001b[0m \u001b[0;34m=\u001b[0m \u001b[0mtorch\u001b[0m\u001b[0;34m.\u001b[0m\u001b[0mfrom_numpy\u001b[0m\u001b[0;34m(\u001b[0m\u001b[0mte_f\u001b[0m\u001b[0;34m.\u001b[0m\u001b[0mtodense\u001b[0m\u001b[0;34m(\u001b[0m\u001b[0;34m)\u001b[0m\u001b[0;34m)\u001b[0m\u001b[0;34m.\u001b[0m\u001b[0mfloat\u001b[0m\u001b[0;34m(\u001b[0m\u001b[0;34m)\u001b[0m\u001b[0;34m.\u001b[0m\u001b[0mto\u001b[0m\u001b[0;34m(\u001b[0m\u001b[0mdevice\u001b[0m\u001b[0;34m)\u001b[0m\u001b[0;34m\u001b[0m\u001b[0;34m\u001b[0m\u001b[0m\n\u001b[1;32m     49\u001b[0m         \u001b[0mnon_train_items\u001b[0m \u001b[0;34m=\u001b[0m \u001b[0mtorch\u001b[0m\u001b[0;34m.\u001b[0m\u001b[0mfrom_numpy\u001b[0m\u001b[0;34m(\u001b[0m\u001b[0;36m1\u001b[0m\u001b[0;34m-\u001b[0m\u001b[0;34m(\u001b[0m\u001b[0mtr_f\u001b[0m\u001b[0;34m.\u001b[0m\u001b[0mtodense\u001b[0m\u001b[0;34m(\u001b[0m\u001b[0;34m)\u001b[0m\u001b[0;34m)\u001b[0m\u001b[0;34m)\u001b[0m\u001b[0;34m.\u001b[0m\u001b[0mfloat\u001b[0m\u001b[0;34m(\u001b[0m\u001b[0;34m)\u001b[0m\u001b[0;34m.\u001b[0m\u001b[0mto\u001b[0m\u001b[0;34m(\u001b[0m\u001b[0mdevice\u001b[0m\u001b[0;34m)\u001b[0m\u001b[0;34m\u001b[0m\u001b[0;34m\u001b[0m\u001b[0m\n\u001b[0;32m---> 50\u001b[0;31m         \u001b[0mscores\u001b[0m \u001b[0;34m=\u001b[0m \u001b[0mscores\u001b[0m \u001b[0;34m*\u001b[0m \u001b[0mnon_train_items\u001b[0m\u001b[0;34m\u001b[0m\u001b[0;34m\u001b[0m\u001b[0m\n\u001b[0m\u001b[1;32m     51\u001b[0m \u001b[0;34m\u001b[0m\u001b[0m\n\u001b[1;32m     52\u001b[0m         \u001b[0m_\u001b[0m\u001b[0;34m,\u001b[0m \u001b[0mtest_indices\u001b[0m \u001b[0;34m=\u001b[0m \u001b[0mtorch\u001b[0m\u001b[0;34m.\u001b[0m\u001b[0mtopk\u001b[0m\u001b[0;34m(\u001b[0m\u001b[0mscores\u001b[0m\u001b[0;34m,\u001b[0m \u001b[0mdim\u001b[0m\u001b[0;34m=\u001b[0m\u001b[0;36m1\u001b[0m\u001b[0;34m,\u001b[0m \u001b[0mk\u001b[0m\u001b[0;34m=\u001b[0m\u001b[0mk\u001b[0m\u001b[0;34m)\u001b[0m\u001b[0;34m\u001b[0m\u001b[0;34m\u001b[0m\u001b[0m\n",
            "\u001b[0;31mKeyboardInterrupt\u001b[0m: "
          ]
        }
      ]
    },
    {
      "cell_type": "markdown",
      "source": [
        "6. 예측"
      ],
      "metadata": {
        "id": "zNeE5-DQxPCO"
      }
    },
    {
      "cell_type": "code",
      "source": [
        "u_emb = model.u_final_embeddings.detach().numpy()\n",
        "i_emb = model.i_final_embeddings.detach().numpy()\n",
        "\n",
        "y_pred = np.dot(u_emb, i_emb.T)\n",
        "# 모델 예측은 위와 같이 final user와 final item의 내적으로 정의된다. 이는 또한 추천 생성에 대해서 score ranking하는데 사용된다. "
      ],
      "metadata": {
        "id": "JTW-BWr77tqX"
      },
      "execution_count": null,
      "outputs": []
    },
    {
      "cell_type": "code",
      "source": [
        "y_pred.shape"
      ],
      "metadata": {
        "colab": {
          "base_uri": "https://localhost:8080/"
        },
        "id": "0gEqwK7-8FU4",
        "outputId": "e3973302-d6d3-4750-9b52-6e47ea6b03d5"
      },
      "execution_count": null,
      "outputs": [
        {
          "output_type": "execute_result",
          "data": {
            "text/plain": [
              "(4532, 2527)"
            ]
          },
          "metadata": {},
          "execution_count": 83
        }
      ]
    },
    {
      "cell_type": "code",
      "source": [
        "y_pred"
      ],
      "metadata": {
        "colab": {
          "base_uri": "https://localhost:8080/"
        },
        "id": "yLWSyO2G8HiN",
        "outputId": "044a649d-e24a-4ae0-c5c3-88c721b60fe1"
      },
      "execution_count": null,
      "outputs": [
        {
          "output_type": "execute_result",
          "data": {
            "text/plain": [
              "array([[ 4.73150492e+00,  6.11687088e+00,  8.17799330e-01, ...,\n",
              "        -1.70892358e-01, -4.22066867e-01, -3.92951429e-01],\n",
              "       [ 6.18978643e+00,  8.00151253e+00,  1.06801808e+00, ...,\n",
              "        -2.22914219e-01, -5.50651252e-01, -5.12660384e-01],\n",
              "       [ 3.88367033e+00,  5.02024269e+00,  6.70298815e-01, ...,\n",
              "        -1.40176475e-01, -3.45213890e-01, -3.21843505e-01],\n",
              "       ...,\n",
              "       [ 3.05258393e-01,  3.98112953e-01,  5.65715842e-02, ...,\n",
              "        -1.20226406e-02, -3.05087958e-02, -2.82686092e-02],\n",
              "       [-1.23251893e-01, -1.64547026e-01, -2.57597230e-02, ...,\n",
              "         5.18243480e-03,  1.51379565e-02,  1.44826416e-02],\n",
              "       [-4.46483946e+00, -5.77812672e+00, -7.77492762e-01, ...,\n",
              "         1.61835074e-01,  4.12115872e-01,  3.84765893e-01]], dtype=float32)"
            ]
          },
          "metadata": {},
          "execution_count": 84
        }
      ]
    },
    {
      "cell_type": "code",
      "source": [
        "model.i_final_embeddings.max(dim=1).indices"
      ],
      "metadata": {
        "id": "Wrc4VbM7LGbs",
        "colab": {
          "base_uri": "https://localhost:8080/"
        },
        "outputId": "68ae8d01-0afc-4a5a-ebff-2279c4bc77cd"
      },
      "execution_count": null,
      "outputs": [
        {
          "output_type": "execute_result",
          "data": {
            "text/plain": [
              "tensor([ 4, 51, 53,  ..., 48, 80, 81])"
            ]
          },
          "metadata": {},
          "execution_count": 49
        }
      ]
    },
    {
      "cell_type": "code",
      "source": [
        "model.i_final_embeddings.max(dim=1)"
      ],
      "metadata": {
        "id": "W13XW_84LGfU",
        "colab": {
          "base_uri": "https://localhost:8080/"
        },
        "outputId": "e2e545f0-6bd7-4e98-8610-2369bca84730"
      },
      "execution_count": null,
      "outputs": [
        {
          "output_type": "execute_result",
          "data": {
            "text/plain": [
              "torch.return_types.max(\n",
              "values=tensor([0.4006, 0.5313, 0.0737,  ..., 0.0227, 0.0298, 0.0170],\n",
              "       grad_fn=<MaxBackward0>),\n",
              "indices=tensor([ 4, 51, 53,  ..., 48, 80, 81]))"
            ]
          },
          "metadata": {},
          "execution_count": 52
        }
      ]
    },
    {
      "cell_type": "code",
      "source": [
        "model.i_final_embeddings"
      ],
      "metadata": {
        "colab": {
          "base_uri": "https://localhost:8080/"
        },
        "id": "_x_h8JlVwFub",
        "outputId": "29d0eab6-cf3f-49fd-bff8-94f5c02a01e9"
      },
      "execution_count": null,
      "outputs": [
        {
          "output_type": "execute_result",
          "data": {
            "text/plain": [
              "Parameter containing:\n",
              "tensor([[-0.3839,  0.3841,  0.3856,  ..., -0.3964, -0.3955, -0.3857],\n",
              "        [-0.5120,  0.5287,  0.5250,  ..., -0.5125, -0.5135, -0.5080],\n",
              "        [-0.0609,  0.0663,  0.0638,  ..., -0.0655, -0.0569, -0.0511],\n",
              "        ...,\n",
              "        [ 0.0185, -0.0205, -0.0199,  ...,  0.0147,  0.0200,  0.0096],\n",
              "        [ 0.0117, -0.0199, -0.0116,  ...,  0.0204,  0.0066,  0.0128],\n",
              "        [ 0.0110, -0.0055, -0.0058,  ...,  0.0028,  0.0098,  0.0103]],\n",
              "       requires_grad=True)"
            ]
          },
          "metadata": {},
          "execution_count": 59
        }
      ]
    },
    {
      "cell_type": "code",
      "source": [
        "len(model.i_final_embeddings)"
      ],
      "metadata": {
        "colab": {
          "base_uri": "https://localhost:8080/"
        },
        "id": "b6WcnyQBvM3V",
        "outputId": "bdcdffde-ab26-41b7-ea7a-94fc9ae164a8"
      },
      "execution_count": null,
      "outputs": [
        {
          "output_type": "execute_result",
          "data": {
            "text/plain": [
              "2527"
            ]
          },
          "metadata": {},
          "execution_count": 54
        }
      ]
    },
    {
      "cell_type": "code",
      "source": [
        "import torch.nn.functional as F\n",
        "y_true = F.one_hot(model.i_final_embeddings.max(dim=1).indices, num_classes = 2527)"
      ],
      "metadata": {
        "id": "3JQjwI_1viQi"
      },
      "execution_count": null,
      "outputs": []
    },
    {
      "cell_type": "code",
      "source": [
        "y_true"
      ],
      "metadata": {
        "colab": {
          "base_uri": "https://localhost:8080/"
        },
        "id": "PAo4Cxkav-_7",
        "outputId": "ebd6a5da-a1b7-4bd9-b243-13557924b13f"
      },
      "execution_count": null,
      "outputs": [
        {
          "output_type": "execute_result",
          "data": {
            "text/plain": [
              "tensor([[0, 0, 0,  ..., 0, 0, 0],\n",
              "        [0, 0, 0,  ..., 0, 0, 0],\n",
              "        [0, 0, 0,  ..., 0, 0, 0],\n",
              "        ...,\n",
              "        [0, 0, 0,  ..., 0, 0, 0],\n",
              "        [0, 0, 0,  ..., 0, 0, 0],\n",
              "        [0, 0, 0,  ..., 0, 0, 0]])"
            ]
          },
          "metadata": {},
          "execution_count": 86
        }
      ]
    },
    {
      "cell_type": "code",
      "source": [
        "y_true.shape"
      ],
      "metadata": {
        "colab": {
          "base_uri": "https://localhost:8080/"
        },
        "id": "g6BNRw1vyNjR",
        "outputId": "3382a84c-8d9e-4d13-fa45-4111f11e27b6"
      },
      "execution_count": null,
      "outputs": [
        {
          "output_type": "execute_result",
          "data": {
            "text/plain": [
              "torch.Size([2527, 2527])"
            ]
          },
          "metadata": {},
          "execution_count": 87
        }
      ]
    },
    {
      "cell_type": "code",
      "source": [
        "np.save('/content/drive/Shareddrives/DSL_Modeling_B/model/GNN-based/y_true.npy', y_true, allow_pickle = False)\n",
        "np.save('/content/drive/Shareddrives/DSL_Modeling_B/model/GNN-based/y_pred.npy', y_pred, allow_pickle = False)"
      ],
      "metadata": {
        "id": "VB9v66hzzqjM"
      },
      "execution_count": null,
      "outputs": []
    }
  ]
}