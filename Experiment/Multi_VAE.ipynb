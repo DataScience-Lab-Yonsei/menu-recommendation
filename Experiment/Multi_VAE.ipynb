{
  "nbformat": 4,
  "nbformat_minor": 0,
  "metadata": {
    "colab": {
      "provenance": [],
      "collapsed_sections": []
    },
    "kernelspec": {
      "name": "python3",
      "display_name": "Python 3"
    },
    "language_info": {
      "name": "python"
    },
    "accelerator": "GPU"
  },
  "cells": [
    {
      "cell_type": "code",
      "source": [
        "!pip install python-box"
      ],
      "metadata": {
        "colab": {
          "base_uri": "https://localhost:8080/"
        },
        "id": "xzJgxsrewLBy",
        "outputId": "99620387-56a2-4c71-820f-eabda36c3cc5"
      },
      "execution_count": null,
      "outputs": [
        {
          "output_type": "stream",
          "name": "stdout",
          "text": [
            "Looking in indexes: https://pypi.org/simple, https://us-python.pkg.dev/colab-wheels/public/simple/\n",
            "Collecting python-box\n",
            "  Downloading python_box-6.0.2-cp37-cp37m-manylinux_2_17_x86_64.manylinux2014_x86_64.whl (3.0 MB)\n",
            "\u001b[K     |████████████████████████████████| 3.0 MB 5.2 MB/s \n",
            "\u001b[?25hInstalling collected packages: python-box\n",
            "Successfully installed python-box-6.0.2\n"
          ]
        }
      ]
    },
    {
      "cell_type": "code",
      "source": [
        "from google.colab import drive\n",
        "drive.mount('/content/drive')"
      ],
      "metadata": {
        "colab": {
          "base_uri": "https://localhost:8080/"
        },
        "id": "9p-U0qWHZYNh",
        "outputId": "f25ca2fc-b22a-4df1-bef1-117c4810a4df"
      },
      "execution_count": null,
      "outputs": [
        {
          "output_type": "stream",
          "name": "stdout",
          "text": [
            "Mounted at /content/drive\n"
          ]
        }
      ]
    },
    {
      "cell_type": "code",
      "source": [
        "%cd /content/drive/MyDrive/[22-2]DSL_Modeling/"
      ],
      "metadata": {
        "colab": {
          "base_uri": "https://localhost:8080/"
        },
        "id": "_KPDKAIGZhGl",
        "outputId": "2c7f0f90-b8ef-4b1c-a802-5ce264ad2494"
      },
      "execution_count": null,
      "outputs": [
        {
          "output_type": "stream",
          "name": "stdout",
          "text": [
            "/content/drive/MyDrive/[22-2]DSL_Modeling\n"
          ]
        }
      ]
    },
    {
      "cell_type": "markdown",
      "source": [
        "# Modules & Hyper-parameters"
      ],
      "metadata": {
        "id": "4y3QoRwcvbn6"
      }
    },
    {
      "cell_type": "code",
      "execution_count": null,
      "metadata": {
        "id": "Ug-br-pPu9vZ"
      },
      "outputs": [],
      "source": [
        "import math\n",
        "import numpy as np\n",
        "import pandas as pd\n",
        "from tqdm import tqdm\n",
        "from collections import defaultdict\n",
        "import os\n",
        "\n",
        "import torch\n",
        "import torch.nn as nn\n",
        "import torch.nn.functional as F\n",
        "from torch.utils.data import Dataset, DataLoader\n",
        "\n",
        "from box import Box\n",
        "\n",
        "import warnings\n",
        "\n",
        "warnings.filterwarnings(action='ignore')\n",
        "torch.set_printoptions(sci_mode=True)"
      ]
    },
    {
      "cell_type": "code",
      "execution_count": null,
      "metadata": {
        "id": "mlm1UrKvoC_O"
      },
      "outputs": [],
      "source": [
        "config = {\n",
        "    'data_path' : \"/content/drive/MyDrive/[22-2]DSL_Modeling/\" , # 데이터 경로\n",
        "\n",
        "    'p_dims': [200, 600],\n",
        "    'dropout_rate' : 0.5,\n",
        "    'weight_decay' : 0.01,\n",
        "    'valid_samples' : 10,\n",
        "    'seed' : 22,\n",
        "    'anneal_cap' : 0.2,\n",
        "    'total_anneal_steps' : 200000,\n",
        "\n",
        "    'lr' : 0.005,\n",
        "    'batch_size' : 500,\n",
        "    'num_epochs' : 50,\n",
        "    'num_workers' : 2,\n",
        "}\n",
        "\n",
        "device = 'cuda' if torch.cuda.is_available() else 'cpu'\n",
        "\n",
        "config = Box(config)"
      ]
    },
    {
      "cell_type": "markdown",
      "metadata": {
        "id": "wjDxy0fJu9vf"
      },
      "source": [
        "# 데이터 전처리"
      ]
    },
    {
      "cell_type": "code",
      "execution_count": null,
      "metadata": {
        "id": "W64BYWl0u9vg"
      },
      "outputs": [],
      "source": [
        "class MakeMatrixDataSet():\n",
        "    \"\"\"\n",
        "    MatrixDataSet 생성\n",
        "    \"\"\"\n",
        "    def __init__(self, config):\n",
        "        self.config = config\n",
        "        self.df = pd.read_csv(os.path.join(self.config.data_path, 'dacon_menu_hr2.csv'))\n",
        "        \n",
        "        self.item_encoder, self.item_decoder = self.generate_encoder_decoder('MenuID')\n",
        "        self.user_encoder, self.user_decoder = self.generate_encoder_decoder('SessionID')\n",
        "        self.num_item, self.num_user = len(self.item_encoder), len(self.user_encoder)\n",
        "\n",
        "        self.df['item_idx'] = self.df['MenuID'].apply(lambda x : self.item_encoder[x])\n",
        "        self.df['user_idx'] = self.df['SessionID'].apply(lambda x : self.user_encoder[x])\n",
        "\n",
        "        self.user_train, self.user_valid = self.generate_sequence_data()\n",
        "\n",
        "    def generate_encoder_decoder(self, col : str) -> dict:\n",
        "        \"\"\"\n",
        "        encoder, decoder 생성\n",
        "\n",
        "        Args:\n",
        "            col (str): 생성할 columns 명\n",
        "        Returns:\n",
        "            dict: 생성된 user encoder, decoder\n",
        "        \"\"\"\n",
        "\n",
        "        encoder = {}\n",
        "        decoder = {}\n",
        "        ids = self.df[col].unique()\n",
        "\n",
        "        for idx, _id in enumerate(ids):\n",
        "            encoder[_id] = idx\n",
        "            decoder[idx] = _id\n",
        "\n",
        "        return encoder, decoder\n",
        "    \n",
        "    def generate_sequence_data(self) -> dict:\n",
        "        \"\"\"\n",
        "        sequence_data 생성\n",
        "\n",
        "        Returns:\n",
        "            dict: train user sequence / valid user sequence\n",
        "        \"\"\"\n",
        "        users = defaultdict(list)\n",
        "        user_train = {}\n",
        "        user_valid = {}\n",
        "        for user, item, time in zip(self.df['user_idx'], self.df['item_idx'], self.df['timestamp']):\n",
        "            users[user].append(item)\n",
        "        \n",
        "        for user in users:\n",
        "            np.random.seed(self.config.seed)\n",
        "\n",
        "            user_total = users[user]\n",
        "            valid = np.random.choice(user_total, size = self.config.valid_samples, replace = False).tolist()\n",
        "            train = list(set(user_total) - set(valid))\n",
        "\n",
        "            user_train[user] = train\n",
        "            user_valid[user] = valid \n",
        "\n",
        "        return user_train, user_valid\n",
        "    \n",
        "    def get_train_valid_data(self):\n",
        "        return self.user_train, self.user_valid\n",
        "\n",
        "    def make_matrix(self, user_list, train = True):\n",
        "        \"\"\"\n",
        "        user_item_dict를 바탕으로 행렬 생성\n",
        "        \"\"\"\n",
        "        mat = torch.zeros(size = (user_list.size(0), self.num_item))\n",
        "        for idx, user in enumerate(user_list):\n",
        "            if train:\n",
        "                mat[idx, self.user_train[user.item()]] = 1\n",
        "            else:\n",
        "                mat[idx, self.user_train[user.item()] + self.user_valid[user.item()]] = 1\n",
        "        return mat"
      ]
    },
    {
      "cell_type": "code",
      "execution_count": null,
      "metadata": {
        "id": "IldCGmY8u9vh"
      },
      "outputs": [],
      "source": [
        "class AEDataSet(Dataset):\n",
        "    def __init__(self, num_user):\n",
        "        self.num_user = num_user\n",
        "        self.users = [i for i in range(num_user)]\n",
        "\n",
        "    def __len__(self):\n",
        "        return self.num_user\n",
        "\n",
        "    def __getitem__(self, idx): \n",
        "        user = self.users[idx]\n",
        "        return torch.LongTensor([user])"
      ]
    },
    {
      "cell_type": "markdown",
      "metadata": {
        "id": "Jtf1I824nx5V"
      },
      "source": [
        "# Multi VAE"
      ]
    },
    {
      "cell_type": "code",
      "source": [
        "class MultiVAE(nn.Module):\n",
        "    \"\"\"\n",
        "    Container module for Multi-DAE.\n",
        "\n",
        "    Multi-DAE : Denoising Autoencoder with Multinomial Likelihood\n",
        "    See Variational Autoencoders for Collaborative Filtering\n",
        "    https://arxiv.org/abs/1802.05814\n",
        "    \"\"\"\n",
        "\n",
        "    def __init__(self, p_dims, dropout_rate = 0.5):\n",
        "        super(MultiVAE, self).__init__()\n",
        "        self.p_dims = p_dims\n",
        "        self.q_dims = p_dims[::-1]\n",
        "\n",
        "        temp_q_dims = self.q_dims[:-1] + [self.q_dims[-1] * 2]\n",
        "\n",
        "        self.q_layers = nn.ModuleList([nn.Linear(d_in, d_out) for\n",
        "            d_in, d_out in zip(temp_q_dims[:-1], temp_q_dims[1:])])\n",
        "\n",
        "        self.p_layers = nn.ModuleList([nn.Linear(d_in, d_out) for\n",
        "            d_in, d_out in zip(self.p_dims[:-1], self.p_dims[1:])])\n",
        "\n",
        "        self.drop = nn.Dropout(dropout_rate)\n",
        "        self.init_weights()\n",
        "    \n",
        "    def forward(self, input):\n",
        "        mu, logvar = self.encode(input)\n",
        "        z = self.reparameterize(mu, logvar)\n",
        "        return self.decode(z), mu, logvar\n",
        "    \n",
        "    def encode(self, input):\n",
        "        h = F.normalize(input)\n",
        "        h = self.drop(h)\n",
        "\n",
        "        for i, layer in enumerate(self.q_layers):\n",
        "            h = layer(h)\n",
        "            if i != len(self.q_layers) - 1:\n",
        "                h = F.tanh(h)\n",
        "            else:\n",
        "                mu = h[:, :self.q_dims[-1]]\n",
        "                logvar = h[:, self.q_dims[-1]:]\n",
        "        return mu, logvar\n",
        "\n",
        "    def reparameterize(self, mu, logvar):\n",
        "        if self.training:\n",
        "            std = torch.exp(0.5 * logvar)\n",
        "            eps = torch.randn_like(std)\n",
        "            return eps.mul(std).add_(mu)\n",
        "        else:\n",
        "            return mu\n",
        "    \n",
        "    def decode(self, z):\n",
        "        h = z\n",
        "        for i, layer in enumerate(self.p_layers):\n",
        "            h = layer(h)\n",
        "            if i != len(self.p_layers) - 1:\n",
        "                h = F.tanh(h)\n",
        "        return h\n",
        "\n",
        "    def init_weights(self):\n",
        "        for layer in self.q_layers:\n",
        "            # Xavier Initialization for weights\n",
        "            size = layer.weight.size()\n",
        "            fan_out = size[0]\n",
        "            fan_in = size[1]\n",
        "            std = np.sqrt(2.0/(fan_in + fan_out))\n",
        "            layer.weight.data.normal_(0.0, std)\n",
        "\n",
        "            # Normal Initialization for Biases\n",
        "            layer.bias.data.normal_(0.0, 0.001)\n",
        "        \n",
        "        for layer in self.p_layers:\n",
        "            # Xavier Initialization for weights\n",
        "            size = layer.weight.size()\n",
        "            fan_out = size[0]\n",
        "            fan_in = size[1]\n",
        "            std = np.sqrt(2.0/(fan_in + fan_out))\n",
        "            layer.weight.data.normal_(0.0, std)\n",
        "\n",
        "            # Normal Initialization for Biases\n",
        "            layer.bias.data.normal_(0.0, 0.001)"
      ],
      "metadata": {
        "id": "VMyZKa81hEl3"
      },
      "execution_count": null,
      "outputs": []
    },
    {
      "cell_type": "markdown",
      "metadata": {
        "id": "dk-bL5p4nx5W"
      },
      "source": [
        "# Training"
      ]
    },
    {
      "cell_type": "code",
      "source": [
        "def train(model, criterion, optimizer, data_loader, make_matrix_data_set, config):\n",
        "    global update_count\n",
        "    model.train()\n",
        "    loss_val = 0\n",
        "    for users in data_loader:\n",
        "        mat = make_matrix_data_set.make_matrix(users)\n",
        "        mat = mat.to(device)\n",
        "\n",
        "        anneal = min(config.anneal_cap, 1. * update_count / config.total_anneal_steps)\n",
        "        \n",
        "        recon_mat, mu, logvar = model(mat)\n",
        "        \n",
        "        optimizer.zero_grad()\n",
        "        loss = criterion(recon_mat, mat, mu, logvar, anneal)\n",
        "\n",
        "        loss_val += loss.item()\n",
        "\n",
        "        loss.backward()\n",
        "        optimizer.step()\n",
        "        \n",
        "        update_count += 1\n",
        "\n",
        "    loss_val /= len(data_loader)\n",
        "\n",
        "    return loss_val\n",
        "\n",
        "def get_ndcg(pred_list, true_list):\n",
        "    idcg = sum((1 / np.log2(rank + 2) for rank in range(1, len(pred_list))))\n",
        "    dcg = 0\n",
        "    for rank, pred in enumerate(pred_list):\n",
        "        if pred in true_list:\n",
        "            dcg += 1 / np.log2(rank + 2)\n",
        "    ndcg = dcg / idcg\n",
        "    return ndcg\n",
        "\n",
        "# hit == recall == precision\n",
        "def get_hit(pred_list, true_list):\n",
        "    hit_list = set(true_list) & set(pred_list)\n",
        "    hit = len(hit_list) / len(true_list)\n",
        "    return hit\n",
        "\n",
        "def evaluate(model, data_loader, user_train, user_valid, make_matrix_data_set):\n",
        "    model.eval()\n",
        "\n",
        "    NDCG = 0.0 # NDCG@10\n",
        "    HIT = 0.0 # HIT@10\n",
        "\n",
        "    with torch.no_grad():\n",
        "        for users in data_loader:\n",
        "            mat = make_matrix_data_set.make_matrix(users)\n",
        "            mat = mat.to(device)\n",
        "\n",
        "            recon_mat, mu, logvar = model(mat)\n",
        "            recon_mat[mat == 1] = -np.inf\n",
        "            rec_list = recon_mat.argsort(dim = 1)\n",
        "\n",
        "            for user, rec in zip(users, rec_list):\n",
        "                uv = user_valid[user.item()]\n",
        "                up = rec[-10:].cpu().numpy().tolist()\n",
        "                NDCG += get_ndcg(pred_list = up, true_list = uv)\n",
        "                HIT += get_hit(pred_list = up, true_list = uv)\n",
        "\n",
        "    NDCG /= len(data_loader.dataset)\n",
        "    HIT /= len(data_loader.dataset)\n",
        "\n",
        "    return NDCG, HIT\n",
        "\n",
        "def predict(model, data_loader, user_train, user_valid, make_matrix_data_set):\n",
        "    model.eval()\n",
        "    \n",
        "    user2rec_list = {}\n",
        "    with torch.no_grad():\n",
        "        for users in data_loader:\n",
        "            mat = make_matrix_data_set.make_matrix(users, train = False)\n",
        "            mat = mat.to(device)\n",
        "\n",
        "            recon_mat, mu, logvar = model(mat)\n",
        "            recon_mat = recon_mat.softmax(dim = 1)\n",
        "            recon_mat[mat == 1] = -1.\n",
        "            rec_list = recon_mat.argsort(dim = 1)\n",
        "\n",
        "            for user, rec in zip(users, rec_list):\n",
        "                up = rec[-10:].cpu().numpy().tolist()\n",
        "                user2rec_list[user.item()] = up\n",
        "    \n",
        "    return user2rec_list\n",
        "\n",
        "def loss_function_vae(recon_x, x, mu, logvar, anneal=1.0):\n",
        "    BCE = -torch.mean(torch.sum(F.log_softmax(recon_x, 1) * x, -1))\n",
        "    KLD = -0.5 * torch.mean(torch.sum(1 + logvar - mu.pow(2) - logvar.exp(), dim=1))\n",
        "\n",
        "    return BCE + anneal * KLD\n"
      ],
      "metadata": {
        "id": "vXlcJZgthM8y"
      },
      "execution_count": null,
      "outputs": []
    },
    {
      "cell_type": "code",
      "execution_count": null,
      "metadata": {
        "id": "Cnq1T8S6nx5X"
      },
      "outputs": [],
      "source": [
        "make_matrix_data_set = MakeMatrixDataSet(config = config)\n",
        "user_train, user_valid = make_matrix_data_set.get_train_valid_data()"
      ]
    },
    {
      "cell_type": "code",
      "execution_count": null,
      "metadata": {
        "id": "RKHjKcKinx5X"
      },
      "outputs": [],
      "source": [
        "ae_dataset = AEDataSet(\n",
        "    num_user = make_matrix_data_set.num_user,\n",
        "    )"
      ]
    },
    {
      "cell_type": "code",
      "source": [
        "data_loader = DataLoader(\n",
        "    ae_dataset,\n",
        "    batch_size = config.batch_size, \n",
        "    shuffle = True, \n",
        "    pin_memory = True,\n",
        "    num_workers = config.num_workers,\n",
        "    )"
      ],
      "metadata": {
        "id": "qAN5kUynhkwu"
      },
      "execution_count": null,
      "outputs": []
    },
    {
      "cell_type": "code",
      "source": [
        "model = MultiVAE(\n",
        "    p_dims = config.p_dims + [make_matrix_data_set.num_item], \n",
        "    dropout_rate = config.dropout_rate).to(device)\n",
        "\n",
        "criterion = loss_function_vae\n",
        "optimizer = torch.optim.Adam(model.parameters(), lr=config.lr, weight_decay = config.weight_decay)\n",
        "\n",
        "# model.load_state_dict(torch.load(os.path.join(config.model_path, 'Multi-VAE_v2.pt')))"
      ],
      "metadata": {
        "id": "cdwA7MuEhdyN"
      },
      "execution_count": null,
      "outputs": []
    },
    {
      "cell_type": "code",
      "source": [
        "best_hit = 0\n",
        "update_count = 1\n",
        "for epoch in range(1, config.num_epochs + 1):\n",
        "    tbar = tqdm(range(1))\n",
        "    for _ in tbar:\n",
        "        train_loss = train(\n",
        "            model = model, \n",
        "            criterion = criterion, \n",
        "            optimizer = optimizer, \n",
        "            data_loader = data_loader,\n",
        "            make_matrix_data_set = make_matrix_data_set,\n",
        "            config = config,\n",
        "            )\n",
        "        \n",
        "        ndcg, hit = evaluate(\n",
        "            model = model, \n",
        "            data_loader = data_loader,\n",
        "            user_train = user_train,\n",
        "            user_valid = user_valid,\n",
        "            make_matrix_data_set = make_matrix_data_set,\n",
        "            )\n",
        "\n",
        "        if best_hit < hit:\n",
        "            best_hit = hit\n",
        "            torch.save(model, 'm-VAE.pt')\n",
        "\n",
        "        tbar.set_description(f'Epoch: {epoch:3d}| Train loss: {train_loss:.5f}| NDCG@10: {ndcg:.5f}| HIT@10: {hit:.5f}')"
      ],
      "metadata": {
        "colab": {
          "base_uri": "https://localhost:8080/"
        },
        "id": "ObzqzyMThvZw",
        "outputId": "cb6b80aa-2249-453d-89ca-912259efca02"
      },
      "execution_count": null,
      "outputs": [
        {
          "output_type": "stream",
          "name": "stderr",
          "text": [
            "Epoch:   1| Train loss: 142.06765| NDCG@10: 0.05474| HIT@10: 0.04517: 100%|██████████| 1/1 [00:03<00:00,  3.66s/it]\n",
            "Epoch:   2| Train loss: 132.34227| NDCG@10: 0.09903| HIT@10: 0.08182: 100%|██████████| 1/1 [00:00<00:00,  1.29it/s]\n",
            "Epoch:   3| Train loss: 126.99345| NDCG@10: 0.12228| HIT@10: 0.09954: 100%|██████████| 1/1 [00:00<00:00,  1.29it/s]\n",
            "Epoch:   4| Train loss: 123.03952| NDCG@10: 0.12361| HIT@10: 0.10002: 100%|██████████| 1/1 [00:00<00:00,  1.30it/s]\n",
            "Epoch:   5| Train loss: 121.13538| NDCG@10: 0.12711| HIT@10: 0.10333: 100%|██████████| 1/1 [00:00<00:00,  1.27it/s]\n",
            "Epoch:   6| Train loss: 120.44516| NDCG@10: 0.14036| HIT@10: 0.11516: 100%|██████████| 1/1 [00:00<00:00,  1.29it/s]\n",
            "Epoch:   7| Train loss: 118.53827| NDCG@10: 0.13312| HIT@10: 0.10889: 100%|██████████| 1/1 [00:00<00:00,  1.39it/s]\n",
            "Epoch:   8| Train loss: 116.67498| NDCG@10: 0.13247| HIT@10: 0.10752: 100%|██████████| 1/1 [00:00<00:00,  1.38it/s]\n",
            "Epoch:   9| Train loss: 115.34918| NDCG@10: 0.12964| HIT@10: 0.10569: 100%|██████████| 1/1 [00:00<00:00,  1.37it/s]\n",
            "Epoch:  10| Train loss: 113.53970| NDCG@10: 0.13147| HIT@10: 0.10752: 100%|██████████| 1/1 [00:00<00:00,  1.35it/s]\n",
            "Epoch:  11| Train loss: 112.18419| NDCG@10: 0.12870| HIT@10: 0.10457: 100%|██████████| 1/1 [00:00<00:00,  1.35it/s]\n",
            "Epoch:  12| Train loss: 111.03938| NDCG@10: 0.13396| HIT@10: 0.10867: 100%|██████████| 1/1 [00:00<00:00,  1.40it/s]\n",
            "Epoch:  13| Train loss: 109.81055| NDCG@10: 0.13266| HIT@10: 0.10799: 100%|██████████| 1/1 [00:00<00:00,  1.38it/s]\n",
            "Epoch:  14| Train loss: 109.36248| NDCG@10: 0.13980| HIT@10: 0.11428: 100%|██████████| 1/1 [00:00<00:00,  1.37it/s]\n",
            "Epoch:  15| Train loss: 108.21326| NDCG@10: 0.13196| HIT@10: 0.10662: 100%|██████████| 1/1 [00:00<00:00,  1.18it/s]\n",
            "Epoch:  16| Train loss: 107.78688| NDCG@10: 0.13477| HIT@10: 0.10909: 100%|██████████| 1/1 [00:00<00:00,  1.37it/s]\n",
            "Epoch:  17| Train loss: 107.05424| NDCG@10: 0.13223| HIT@10: 0.10814: 100%|██████████| 1/1 [00:00<00:00,  1.35it/s]\n",
            "Epoch:  18| Train loss: 106.57148| NDCG@10: 0.12737| HIT@10: 0.10298: 100%|██████████| 1/1 [00:00<00:00,  1.35it/s]\n",
            "Epoch:  19| Train loss: 106.13763| NDCG@10: 0.14368| HIT@10: 0.11752: 100%|██████████| 1/1 [00:00<00:00,  1.23it/s]\n",
            "Epoch:  20| Train loss: 105.68663| NDCG@10: 0.13597| HIT@10: 0.10995: 100%|██████████| 1/1 [00:00<00:00,  1.39it/s]\n",
            "Epoch:  21| Train loss: 105.48273| NDCG@10: 0.13946| HIT@10: 0.11331: 100%|██████████| 1/1 [00:00<00:00,  1.38it/s]\n",
            "Epoch:  22| Train loss: 104.92731| NDCG@10: 0.13791| HIT@10: 0.11183: 100%|██████████| 1/1 [00:00<00:00,  1.37it/s]\n",
            "Epoch:  23| Train loss: 104.50896| NDCG@10: 0.13725| HIT@10: 0.11233: 100%|██████████| 1/1 [00:00<00:00,  1.33it/s]\n",
            "Epoch:  24| Train loss: 103.87048| NDCG@10: 0.13638| HIT@10: 0.11055: 100%|██████████| 1/1 [00:00<00:00,  1.37it/s]\n",
            "Epoch:  25| Train loss: 103.77388| NDCG@10: 0.13407| HIT@10: 0.10911: 100%|██████████| 1/1 [00:00<00:00,  1.35it/s]\n",
            "Epoch:  26| Train loss: 103.23382| NDCG@10: 0.14273| HIT@10: 0.11578: 100%|██████████| 1/1 [00:00<00:00,  1.37it/s]\n",
            "Epoch:  27| Train loss: 102.60641| NDCG@10: 0.12999| HIT@10: 0.10490: 100%|██████████| 1/1 [00:00<00:00,  1.39it/s]\n",
            "Epoch:  28| Train loss: 102.72456| NDCG@10: 0.14543| HIT@10: 0.11695: 100%|██████████| 1/1 [00:00<00:00,  1.37it/s]\n",
            "Epoch:  29| Train loss: 102.48884| NDCG@10: 0.13610| HIT@10: 0.11055: 100%|██████████| 1/1 [00:00<00:00,  1.38it/s]\n",
            "Epoch:  30| Train loss: 102.02599| NDCG@10: 0.14207| HIT@10: 0.11478: 100%|██████████| 1/1 [00:00<00:00,  1.36it/s]\n",
            "Epoch:  31| Train loss: 101.76742| NDCG@10: 0.14052| HIT@10: 0.11414: 100%|██████████| 1/1 [00:00<00:00,  1.33it/s]\n",
            "Epoch:  32| Train loss: 101.59580| NDCG@10: 0.14307| HIT@10: 0.11697: 100%|██████████| 1/1 [00:00<00:00,  1.36it/s]\n",
            "Epoch:  33| Train loss: 102.07021| NDCG@10: 0.13514| HIT@10: 0.10909: 100%|██████████| 1/1 [00:00<00:00,  1.34it/s]\n",
            "Epoch:  34| Train loss: 101.28777| NDCG@10: 0.13876| HIT@10: 0.11156: 100%|██████████| 1/1 [00:00<00:00,  1.36it/s]\n",
            "Epoch:  35| Train loss: 101.49973| NDCG@10: 0.14353| HIT@10: 0.11712: 100%|██████████| 1/1 [00:00<00:00,  1.36it/s]\n",
            "Epoch:  36| Train loss: 101.36368| NDCG@10: 0.14369| HIT@10: 0.11681: 100%|██████████| 1/1 [00:00<00:00,  1.36it/s]\n",
            "Epoch:  37| Train loss: 100.88381| NDCG@10: 0.13779| HIT@10: 0.11169: 100%|██████████| 1/1 [00:00<00:00,  1.35it/s]\n",
            "Epoch:  38| Train loss: 100.82337| NDCG@10: 0.13976| HIT@10: 0.11253: 100%|██████████| 1/1 [00:00<00:00,  1.36it/s]\n",
            "Epoch:  39| Train loss: 100.57669| NDCG@10: 0.14539| HIT@10: 0.11593: 100%|██████████| 1/1 [00:00<00:00,  1.31it/s]\n",
            "Epoch:  40| Train loss: 100.60209| NDCG@10: 0.14448| HIT@10: 0.11770: 100%|██████████| 1/1 [00:00<00:00,  1.28it/s]\n",
            "Epoch:  41| Train loss: 100.18219| NDCG@10: 0.13797| HIT@10: 0.11220: 100%|██████████| 1/1 [00:00<00:00,  1.32it/s]\n",
            "Epoch:  42| Train loss: 100.55266| NDCG@10: 0.14251| HIT@10: 0.11723: 100%|██████████| 1/1 [00:00<00:00,  1.33it/s]\n",
            "Epoch:  43| Train loss: 99.55649| NDCG@10: 0.14061| HIT@10: 0.11260: 100%|██████████| 1/1 [00:00<00:00,  1.29it/s]\n",
            "Epoch:  44| Train loss: 99.47816| NDCG@10: 0.14370| HIT@10: 0.11595: 100%|██████████| 1/1 [00:00<00:00,  1.34it/s]\n",
            "Epoch:  45| Train loss: 99.28939| NDCG@10: 0.13351| HIT@10: 0.10874: 100%|██████████| 1/1 [00:00<00:00,  1.35it/s]\n",
            "Epoch:  46| Train loss: 99.61733| NDCG@10: 0.14119| HIT@10: 0.11459: 100%|██████████| 1/1 [00:00<00:00,  1.36it/s]\n",
            "Epoch:  47| Train loss: 99.18786| NDCG@10: 0.14580| HIT@10: 0.11884: 100%|██████████| 1/1 [00:00<00:00,  1.22it/s]\n",
            "Epoch:  48| Train loss: 98.76482| NDCG@10: 0.14557| HIT@10: 0.11862: 100%|██████████| 1/1 [00:00<00:00,  1.36it/s]\n",
            "Epoch:  49| Train loss: 98.88654| NDCG@10: 0.14348| HIT@10: 0.11571: 100%|██████████| 1/1 [00:00<00:00,  1.37it/s]\n",
            "Epoch:  50| Train loss: 98.96071| NDCG@10: 0.13791| HIT@10: 0.11233: 100%|██████████| 1/1 [00:00<00:00,  1.37it/s]\n"
          ]
        }
      ]
    },
    {
      "cell_type": "code",
      "source": [
        "torch.save(model, 'm-VAE.pt')"
      ],
      "metadata": {
        "id": "jCcw5blwexiW"
      },
      "execution_count": null,
      "outputs": []
    },
    {
      "cell_type": "markdown",
      "source": [
        "# 결과 확인"
      ],
      "metadata": {
        "id": "LUUxuscSbA_A"
      }
    },
    {
      "cell_type": "code",
      "source": [
        "def predict(model, data_loader, user_train, user_valid, make_matrix_data_set):\n",
        "    model.eval()\n",
        "    \n",
        "    user2rec_list = {}\n",
        "    with torch.no_grad():\n",
        "        for users in data_loader:\n",
        "            mat = make_matrix_data_set.make_matrix(users, train = False)\n",
        "            mat = mat.to(device)\n",
        "\n",
        "            recon_mat, mu, logvar = model(mat)\n",
        "            recon_mat = recon_mat.softmax(dim = 1)\n",
        "            recon_mat[mat == 1] = -1.\n",
        "            rec_list = recon_mat.argsort(dim = 1)\n",
        "\n",
        "            for user, rec in zip(users, rec_list):\n",
        "                up = rec[-10:].cpu().numpy().tolist()\n",
        "                user2rec_list[user.item()] = up\n",
        "    \n",
        "    return user2rec_list"
      ],
      "metadata": {
        "id": "mNJV9Jm-bJA6"
      },
      "execution_count": null,
      "outputs": []
    },
    {
      "cell_type": "code",
      "source": [
        "model = torch.load(os.path.join('model/*.pt', 'm-VAE.pt'))\n",
        "\n",
        "submission_data_loader = DataLoader(\n",
        "    ae_dataset,\n",
        "    batch_size = config.batch_size, \n",
        "    shuffle = False, \n",
        "    pin_memory = True,\n",
        "    num_workers = config.num_workers,\n",
        "    )\n",
        "\n",
        "user2rec_list = predict(\n",
        "    model = model, \n",
        "    data_loader = submission_data_loader,\n",
        "    user_train = user_train, \n",
        "    user_valid = user_valid, \n",
        "    make_matrix_data_set = make_matrix_data_set\n",
        "    )\n",
        "\n",
        "submision = []\n",
        "users = [i for i in range(0, make_matrix_data_set.num_user)]\n",
        "for user in users:\n",
        "    rec_item_list = user2rec_list[user]\n",
        "    for item in rec_item_list:\n",
        "        submision.append(\n",
        "            {   \n",
        "                'user' : make_matrix_data_set.user_decoder[user],\n",
        "                'item' : make_matrix_data_set.item_decoder[item],\n",
        "            }\n",
        "        )\n",
        "\n",
        "submision = pd.DataFrame(submision)"
      ],
      "metadata": {
        "id": "ehqgK0Aye-ni"
      },
      "execution_count": null,
      "outputs": []
    },
    {
      "cell_type": "code",
      "source": [
        "submision"
      ],
      "metadata": {
        "colab": {
          "base_uri": "https://localhost:8080/",
          "height": 423
        },
        "id": "Xtc-zYdqp7eu",
        "outputId": "7aab1973-ba5a-4887-d667-3515797b644a"
      },
      "execution_count": null,
      "outputs": [
        {
          "output_type": "execute_result",
          "data": {
            "text/plain": [
              "       user    item\n",
              "0         0   179.0\n",
              "1         0    39.0\n",
              "2         0    62.0\n",
              "3         0    55.0\n",
              "4         0    28.0\n",
              "...     ...     ...\n",
              "45315  4531   146.0\n",
              "45316  4531  2135.0\n",
              "45317  4531  1446.0\n",
              "45318  4531   637.0\n",
              "45319  4531     2.0\n",
              "\n",
              "[45320 rows x 2 columns]"
            ],
            "text/html": [
              "\n",
              "  <div id=\"df-138331c4-bfd0-4483-bd51-28d75fab6b5e\">\n",
              "    <div class=\"colab-df-container\">\n",
              "      <div>\n",
              "<style scoped>\n",
              "    .dataframe tbody tr th:only-of-type {\n",
              "        vertical-align: middle;\n",
              "    }\n",
              "\n",
              "    .dataframe tbody tr th {\n",
              "        vertical-align: top;\n",
              "    }\n",
              "\n",
              "    .dataframe thead th {\n",
              "        text-align: right;\n",
              "    }\n",
              "</style>\n",
              "<table border=\"1\" class=\"dataframe\">\n",
              "  <thead>\n",
              "    <tr style=\"text-align: right;\">\n",
              "      <th></th>\n",
              "      <th>user</th>\n",
              "      <th>item</th>\n",
              "    </tr>\n",
              "  </thead>\n",
              "  <tbody>\n",
              "    <tr>\n",
              "      <th>0</th>\n",
              "      <td>0</td>\n",
              "      <td>179.0</td>\n",
              "    </tr>\n",
              "    <tr>\n",
              "      <th>1</th>\n",
              "      <td>0</td>\n",
              "      <td>39.0</td>\n",
              "    </tr>\n",
              "    <tr>\n",
              "      <th>2</th>\n",
              "      <td>0</td>\n",
              "      <td>62.0</td>\n",
              "    </tr>\n",
              "    <tr>\n",
              "      <th>3</th>\n",
              "      <td>0</td>\n",
              "      <td>55.0</td>\n",
              "    </tr>\n",
              "    <tr>\n",
              "      <th>4</th>\n",
              "      <td>0</td>\n",
              "      <td>28.0</td>\n",
              "    </tr>\n",
              "    <tr>\n",
              "      <th>...</th>\n",
              "      <td>...</td>\n",
              "      <td>...</td>\n",
              "    </tr>\n",
              "    <tr>\n",
              "      <th>45315</th>\n",
              "      <td>4531</td>\n",
              "      <td>146.0</td>\n",
              "    </tr>\n",
              "    <tr>\n",
              "      <th>45316</th>\n",
              "      <td>4531</td>\n",
              "      <td>2135.0</td>\n",
              "    </tr>\n",
              "    <tr>\n",
              "      <th>45317</th>\n",
              "      <td>4531</td>\n",
              "      <td>1446.0</td>\n",
              "    </tr>\n",
              "    <tr>\n",
              "      <th>45318</th>\n",
              "      <td>4531</td>\n",
              "      <td>637.0</td>\n",
              "    </tr>\n",
              "    <tr>\n",
              "      <th>45319</th>\n",
              "      <td>4531</td>\n",
              "      <td>2.0</td>\n",
              "    </tr>\n",
              "  </tbody>\n",
              "</table>\n",
              "<p>45320 rows × 2 columns</p>\n",
              "</div>\n",
              "      <button class=\"colab-df-convert\" onclick=\"convertToInteractive('df-138331c4-bfd0-4483-bd51-28d75fab6b5e')\"\n",
              "              title=\"Convert this dataframe to an interactive table.\"\n",
              "              style=\"display:none;\">\n",
              "        \n",
              "  <svg xmlns=\"http://www.w3.org/2000/svg\" height=\"24px\"viewBox=\"0 0 24 24\"\n",
              "       width=\"24px\">\n",
              "    <path d=\"M0 0h24v24H0V0z\" fill=\"none\"/>\n",
              "    <path d=\"M18.56 5.44l.94 2.06.94-2.06 2.06-.94-2.06-.94-.94-2.06-.94 2.06-2.06.94zm-11 1L8.5 8.5l.94-2.06 2.06-.94-2.06-.94L8.5 2.5l-.94 2.06-2.06.94zm10 10l.94 2.06.94-2.06 2.06-.94-2.06-.94-.94-2.06-.94 2.06-2.06.94z\"/><path d=\"M17.41 7.96l-1.37-1.37c-.4-.4-.92-.59-1.43-.59-.52 0-1.04.2-1.43.59L10.3 9.45l-7.72 7.72c-.78.78-.78 2.05 0 2.83L4 21.41c.39.39.9.59 1.41.59.51 0 1.02-.2 1.41-.59l7.78-7.78 2.81-2.81c.8-.78.8-2.07 0-2.86zM5.41 20L4 18.59l7.72-7.72 1.47 1.35L5.41 20z\"/>\n",
              "  </svg>\n",
              "      </button>\n",
              "      \n",
              "  <style>\n",
              "    .colab-df-container {\n",
              "      display:flex;\n",
              "      flex-wrap:wrap;\n",
              "      gap: 12px;\n",
              "    }\n",
              "\n",
              "    .colab-df-convert {\n",
              "      background-color: #E8F0FE;\n",
              "      border: none;\n",
              "      border-radius: 50%;\n",
              "      cursor: pointer;\n",
              "      display: none;\n",
              "      fill: #1967D2;\n",
              "      height: 32px;\n",
              "      padding: 0 0 0 0;\n",
              "      width: 32px;\n",
              "    }\n",
              "\n",
              "    .colab-df-convert:hover {\n",
              "      background-color: #E2EBFA;\n",
              "      box-shadow: 0px 1px 2px rgba(60, 64, 67, 0.3), 0px 1px 3px 1px rgba(60, 64, 67, 0.15);\n",
              "      fill: #174EA6;\n",
              "    }\n",
              "\n",
              "    [theme=dark] .colab-df-convert {\n",
              "      background-color: #3B4455;\n",
              "      fill: #D2E3FC;\n",
              "    }\n",
              "\n",
              "    [theme=dark] .colab-df-convert:hover {\n",
              "      background-color: #434B5C;\n",
              "      box-shadow: 0px 1px 3px 1px rgba(0, 0, 0, 0.15);\n",
              "      filter: drop-shadow(0px 1px 2px rgba(0, 0, 0, 0.3));\n",
              "      fill: #FFFFFF;\n",
              "    }\n",
              "  </style>\n",
              "\n",
              "      <script>\n",
              "        const buttonEl =\n",
              "          document.querySelector('#df-138331c4-bfd0-4483-bd51-28d75fab6b5e button.colab-df-convert');\n",
              "        buttonEl.style.display =\n",
              "          google.colab.kernel.accessAllowed ? 'block' : 'none';\n",
              "\n",
              "        async function convertToInteractive(key) {\n",
              "          const element = document.querySelector('#df-138331c4-bfd0-4483-bd51-28d75fab6b5e');\n",
              "          const dataTable =\n",
              "            await google.colab.kernel.invokeFunction('convertToInteractive',\n",
              "                                                     [key], {});\n",
              "          if (!dataTable) return;\n",
              "\n",
              "          const docLinkHtml = 'Like what you see? Visit the ' +\n",
              "            '<a target=\"_blank\" href=https://colab.research.google.com/notebooks/data_table.ipynb>data table notebook</a>'\n",
              "            + ' to learn more about interactive tables.';\n",
              "          element.innerHTML = '';\n",
              "          dataTable['output_type'] = 'display_data';\n",
              "          await google.colab.output.renderOutput(dataTable, element);\n",
              "          const docLink = document.createElement('div');\n",
              "          docLink.innerHTML = docLinkHtml;\n",
              "          element.appendChild(docLink);\n",
              "        }\n",
              "      </script>\n",
              "    </div>\n",
              "  </div>\n",
              "  "
            ]
          },
          "metadata": {},
          "execution_count": 20
        }
      ]
    }
  ]
}